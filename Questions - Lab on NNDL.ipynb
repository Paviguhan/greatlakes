{
 "cells": [
  {
   "cell_type": "markdown",
   "metadata": {
    "colab_type": "text",
    "id": "YeoiMbH7djEv"
   },
   "source": [
    "# Stock prices dataset\n",
    "The data is of tock exchange's stock listings for each trading day of 2010 to 2016.\n",
    "\n",
    "## Description\n",
    "A brief description of columns.\n",
    "- open: The opening market price of the equity symbol on the date\n",
    "- high: The highest market price of the equity symbol on the date\n",
    "- low: The lowest recorded market price of the equity symbol on the date\n",
    "- close: The closing recorded price of the equity symbol on the date\n",
    "- symbol: Symbol of the listed company\n",
    "- volume: Total traded volume of the equity symbol on the date\n",
    "- date: Date of record"
   ]
  },
  {
   "cell_type": "markdown",
   "metadata": {
    "colab_type": "text",
    "id": "RSoYY2nII_UW"
   },
   "source": [
    "In this assignment, we will work on the stock prices dataset named \"prices.csv\". Task is to create a Neural Network to classify closing price for a stock based on some parameters."
   ]
  },
  {
   "cell_type": "code",
   "execution_count": 245,
   "metadata": {
    "colab": {},
    "colab_type": "code",
    "id": "PGqq9f8VdLba"
   },
   "outputs": [],
   "source": [
    "# Initialize the random number generator\n",
    "import random\n",
    "random.seed(0)\n",
    "\n",
    "# Ignore the warnings\n",
    "import warnings\n",
    "warnings.filterwarnings(\"ignore\")"
   ]
  },
  {
   "cell_type": "markdown",
   "metadata": {
    "colab_type": "text",
    "id": "_88voqAH-O6J"
   },
   "source": [
    "## Question 1"
   ]
  },
  {
   "cell_type": "markdown",
   "metadata": {
    "colab_type": "text",
    "id": "dRHCeJqP-evf"
   },
   "source": [
    "### Load the data\n",
    "- load the csv file and read it using pandas\n",
    "- file name is prices.csv"
   ]
  },
  {
   "cell_type": "code",
   "execution_count": 29,
   "metadata": {
    "colab": {},
    "colab_type": "code",
    "id": "cKVH5v7r-RmC"
   },
   "outputs": [
    {
     "ename": "ModuleNotFoundError",
     "evalue": "No module named 'google.colab'",
     "output_type": "error",
     "traceback": [
      "\u001b[1;31m---------------------------------------------------------------------------\u001b[0m",
      "\u001b[1;31mModuleNotFoundError\u001b[0m                       Traceback (most recent call last)",
      "\u001b[1;32m<ipython-input-29-5ea6cca43991>\u001b[0m in \u001b[0;36m<module>\u001b[1;34m\u001b[0m\n\u001b[0;32m      1\u001b[0m \u001b[1;31m# run this cell to upload file using GUI if you are using google colab\u001b[0m\u001b[1;33m\u001b[0m\u001b[1;33m\u001b[0m\u001b[1;33m\u001b[0m\u001b[0m\n\u001b[0;32m      2\u001b[0m \u001b[1;33m\u001b[0m\u001b[0m\n\u001b[1;32m----> 3\u001b[1;33m \u001b[1;32mfrom\u001b[0m \u001b[0mgoogle\u001b[0m\u001b[1;33m.\u001b[0m\u001b[0mcolab\u001b[0m \u001b[1;32mimport\u001b[0m \u001b[0mfiles\u001b[0m\u001b[1;33m\u001b[0m\u001b[1;33m\u001b[0m\u001b[0m\n\u001b[0m\u001b[0;32m      4\u001b[0m \u001b[0mfiles\u001b[0m\u001b[1;33m.\u001b[0m\u001b[0mupload\u001b[0m\u001b[1;33m(\u001b[0m\u001b[1;33m)\u001b[0m\u001b[1;33m\u001b[0m\u001b[1;33m\u001b[0m\u001b[0m\n",
      "\u001b[1;31mModuleNotFoundError\u001b[0m: No module named 'google.colab'"
     ]
    }
   ],
   "source": [
    "# run this cell to upload file using GUI if you are using google colab\n",
    "\n",
    "from google.colab import files\n",
    "files.upload()"
   ]
  },
  {
   "cell_type": "code",
   "execution_count": null,
   "metadata": {
    "colab": {
     "base_uri": "https://localhost:8080/",
     "height": 121
    },
    "colab_type": "code",
    "executionInfo": {
     "elapsed": 115660,
     "status": "ok",
     "timestamp": 1581850811247,
     "user": {
      "displayName": "Suryansh Sharma",
      "photoUrl": "https://lh3.googleusercontent.com/a-/AAuE7mBy1CGO0PDyRG1nsJ6rDaUXBg-h18OkEJ86htszrw=s64",
      "userId": "03232072030227591914"
     },
     "user_tz": -330
    },
    "id": "Gr4YcffYd1FQ",
    "outputId": "42160bf4-3e3d-4d22-f9ed-e1e9b353c5a7"
   },
   "outputs": [],
   "source": [
    "# run this cell to to mount the google drive if you are using google colab\n",
    "\n",
    "from google.colab import drive\n",
    "drive.mount('/content/drive/My Drive/')"
   ]
  },
  {
   "cell_type": "code",
   "execution_count": 246,
   "metadata": {},
   "outputs": [],
   "source": [
    "import pandas as pd\n",
    "data = pd.read_csv(\"prices.csv\")"
   ]
  },
  {
   "cell_type": "markdown",
   "metadata": {
    "colab_type": "text",
    "id": "HlLKVPVH_BCT"
   },
   "source": [
    "## Question 2"
   ]
  },
  {
   "cell_type": "markdown",
   "metadata": {
    "colab_type": "text",
    "id": "ZxoGynuBeO4t"
   },
   "source": [
    "### Drop null\n",
    "- Drop null values if any"
   ]
  },
  {
   "cell_type": "code",
   "execution_count": 247,
   "metadata": {},
   "outputs": [
    {
     "name": "stdout",
     "output_type": "stream",
     "text": [
      "<class 'pandas.core.frame.DataFrame'>\n",
      "RangeIndex: 851264 entries, 0 to 851263\n",
      "Data columns (total 7 columns):\n",
      "date      851264 non-null object\n",
      "symbol    851264 non-null object\n",
      "open      851264 non-null float64\n",
      "close     851264 non-null float64\n",
      "low       851264 non-null float64\n",
      "high      851264 non-null float64\n",
      "volume    851264 non-null float64\n",
      "dtypes: float64(5), object(2)\n",
      "memory usage: 45.5+ MB\n"
     ]
    }
   ],
   "source": [
    "data.info()"
   ]
  },
  {
   "cell_type": "code",
   "execution_count": 248,
   "metadata": {
    "colab": {},
    "colab_type": "code",
    "id": "_yuwJJIeeUaD"
   },
   "outputs": [
    {
     "data": {
      "text/plain": [
       "date      851264\n",
       "symbol    851264\n",
       "open      851264\n",
       "close     851264\n",
       "low       851264\n",
       "high      851264\n",
       "volume    851264\n",
       "dtype: int64"
      ]
     },
     "execution_count": 248,
     "metadata": {},
     "output_type": "execute_result"
    }
   ],
   "source": [
    "data.isna().count()    ## no null values"
   ]
  },
  {
   "cell_type": "code",
   "execution_count": 249,
   "metadata": {},
   "outputs": [
    {
     "data": {
      "text/html": [
       "<div>\n",
       "<style scoped>\n",
       "    .dataframe tbody tr th:only-of-type {\n",
       "        vertical-align: middle;\n",
       "    }\n",
       "\n",
       "    .dataframe tbody tr th {\n",
       "        vertical-align: top;\n",
       "    }\n",
       "\n",
       "    .dataframe thead th {\n",
       "        text-align: right;\n",
       "    }\n",
       "</style>\n",
       "<table border=\"1\" class=\"dataframe\">\n",
       "  <thead>\n",
       "    <tr style=\"text-align: right;\">\n",
       "      <th></th>\n",
       "      <th>date</th>\n",
       "      <th>symbol</th>\n",
       "      <th>open</th>\n",
       "      <th>close</th>\n",
       "      <th>low</th>\n",
       "      <th>high</th>\n",
       "      <th>volume</th>\n",
       "    </tr>\n",
       "  </thead>\n",
       "  <tbody>\n",
       "    <tr>\n",
       "      <th>0</th>\n",
       "      <td>2016-01-05 00:00:00</td>\n",
       "      <td>WLTW</td>\n",
       "      <td>123.430000</td>\n",
       "      <td>125.839996</td>\n",
       "      <td>122.309998</td>\n",
       "      <td>126.250000</td>\n",
       "      <td>2163600.0</td>\n",
       "    </tr>\n",
       "    <tr>\n",
       "      <th>1</th>\n",
       "      <td>2016-01-06 00:00:00</td>\n",
       "      <td>WLTW</td>\n",
       "      <td>125.239998</td>\n",
       "      <td>119.980003</td>\n",
       "      <td>119.940002</td>\n",
       "      <td>125.540001</td>\n",
       "      <td>2386400.0</td>\n",
       "    </tr>\n",
       "    <tr>\n",
       "      <th>2</th>\n",
       "      <td>2016-01-07 00:00:00</td>\n",
       "      <td>WLTW</td>\n",
       "      <td>116.379997</td>\n",
       "      <td>114.949997</td>\n",
       "      <td>114.930000</td>\n",
       "      <td>119.739998</td>\n",
       "      <td>2489500.0</td>\n",
       "    </tr>\n",
       "    <tr>\n",
       "      <th>3</th>\n",
       "      <td>2016-01-08 00:00:00</td>\n",
       "      <td>WLTW</td>\n",
       "      <td>115.480003</td>\n",
       "      <td>116.620003</td>\n",
       "      <td>113.500000</td>\n",
       "      <td>117.440002</td>\n",
       "      <td>2006300.0</td>\n",
       "    </tr>\n",
       "    <tr>\n",
       "      <th>4</th>\n",
       "      <td>2016-01-11 00:00:00</td>\n",
       "      <td>WLTW</td>\n",
       "      <td>117.010002</td>\n",
       "      <td>114.970001</td>\n",
       "      <td>114.089996</td>\n",
       "      <td>117.330002</td>\n",
       "      <td>1408600.0</td>\n",
       "    </tr>\n",
       "    <tr>\n",
       "      <th>5</th>\n",
       "      <td>2016-01-12 00:00:00</td>\n",
       "      <td>WLTW</td>\n",
       "      <td>115.510002</td>\n",
       "      <td>115.550003</td>\n",
       "      <td>114.500000</td>\n",
       "      <td>116.059998</td>\n",
       "      <td>1098000.0</td>\n",
       "    </tr>\n",
       "    <tr>\n",
       "      <th>6</th>\n",
       "      <td>2016-01-13 00:00:00</td>\n",
       "      <td>WLTW</td>\n",
       "      <td>116.459999</td>\n",
       "      <td>112.849998</td>\n",
       "      <td>112.589996</td>\n",
       "      <td>117.070000</td>\n",
       "      <td>949600.0</td>\n",
       "    </tr>\n",
       "    <tr>\n",
       "      <th>7</th>\n",
       "      <td>2016-01-14 00:00:00</td>\n",
       "      <td>WLTW</td>\n",
       "      <td>113.510002</td>\n",
       "      <td>114.379997</td>\n",
       "      <td>110.050003</td>\n",
       "      <td>115.029999</td>\n",
       "      <td>785300.0</td>\n",
       "    </tr>\n",
       "    <tr>\n",
       "      <th>8</th>\n",
       "      <td>2016-01-15 00:00:00</td>\n",
       "      <td>WLTW</td>\n",
       "      <td>113.330002</td>\n",
       "      <td>112.529999</td>\n",
       "      <td>111.919998</td>\n",
       "      <td>114.879997</td>\n",
       "      <td>1093700.0</td>\n",
       "    </tr>\n",
       "    <tr>\n",
       "      <th>9</th>\n",
       "      <td>2016-01-19 00:00:00</td>\n",
       "      <td>WLTW</td>\n",
       "      <td>113.660004</td>\n",
       "      <td>110.379997</td>\n",
       "      <td>109.870003</td>\n",
       "      <td>115.870003</td>\n",
       "      <td>1523500.0</td>\n",
       "    </tr>\n",
       "    <tr>\n",
       "      <th>10</th>\n",
       "      <td>2016-01-20 00:00:00</td>\n",
       "      <td>WLTW</td>\n",
       "      <td>109.059998</td>\n",
       "      <td>109.300003</td>\n",
       "      <td>108.320000</td>\n",
       "      <td>111.599998</td>\n",
       "      <td>1653900.0</td>\n",
       "    </tr>\n",
       "    <tr>\n",
       "      <th>11</th>\n",
       "      <td>2016-01-21 00:00:00</td>\n",
       "      <td>WLTW</td>\n",
       "      <td>109.730003</td>\n",
       "      <td>110.000000</td>\n",
       "      <td>108.320000</td>\n",
       "      <td>110.580002</td>\n",
       "      <td>944300.0</td>\n",
       "    </tr>\n",
       "    <tr>\n",
       "      <th>12</th>\n",
       "      <td>2016-01-22 00:00:00</td>\n",
       "      <td>WLTW</td>\n",
       "      <td>111.879997</td>\n",
       "      <td>111.949997</td>\n",
       "      <td>110.190002</td>\n",
       "      <td>112.949997</td>\n",
       "      <td>744900.0</td>\n",
       "    </tr>\n",
       "    <tr>\n",
       "      <th>13</th>\n",
       "      <td>2016-01-25 00:00:00</td>\n",
       "      <td>WLTW</td>\n",
       "      <td>111.320000</td>\n",
       "      <td>110.120003</td>\n",
       "      <td>110.000000</td>\n",
       "      <td>114.629997</td>\n",
       "      <td>703800.0</td>\n",
       "    </tr>\n",
       "    <tr>\n",
       "      <th>14</th>\n",
       "      <td>2016-01-26 00:00:00</td>\n",
       "      <td>WLTW</td>\n",
       "      <td>110.419998</td>\n",
       "      <td>111.000000</td>\n",
       "      <td>107.300003</td>\n",
       "      <td>111.400002</td>\n",
       "      <td>563100.0</td>\n",
       "    </tr>\n",
       "    <tr>\n",
       "      <th>15</th>\n",
       "      <td>2016-01-27 00:00:00</td>\n",
       "      <td>WLTW</td>\n",
       "      <td>110.769997</td>\n",
       "      <td>110.709999</td>\n",
       "      <td>109.019997</td>\n",
       "      <td>112.570000</td>\n",
       "      <td>896100.0</td>\n",
       "    </tr>\n",
       "    <tr>\n",
       "      <th>16</th>\n",
       "      <td>2016-01-28 00:00:00</td>\n",
       "      <td>WLTW</td>\n",
       "      <td>110.900002</td>\n",
       "      <td>112.580002</td>\n",
       "      <td>109.900002</td>\n",
       "      <td>112.970001</td>\n",
       "      <td>680400.0</td>\n",
       "    </tr>\n",
       "    <tr>\n",
       "      <th>17</th>\n",
       "      <td>2016-01-29 00:00:00</td>\n",
       "      <td>WLTW</td>\n",
       "      <td>113.349998</td>\n",
       "      <td>114.470001</td>\n",
       "      <td>111.669998</td>\n",
       "      <td>114.589996</td>\n",
       "      <td>749900.0</td>\n",
       "    </tr>\n",
       "    <tr>\n",
       "      <th>18</th>\n",
       "      <td>2016-02-01 00:00:00</td>\n",
       "      <td>WLTW</td>\n",
       "      <td>114.000000</td>\n",
       "      <td>114.500000</td>\n",
       "      <td>112.900002</td>\n",
       "      <td>114.849998</td>\n",
       "      <td>574200.0</td>\n",
       "    </tr>\n",
       "    <tr>\n",
       "      <th>19</th>\n",
       "      <td>2016-02-02 00:00:00</td>\n",
       "      <td>WLTW</td>\n",
       "      <td>113.250000</td>\n",
       "      <td>110.559998</td>\n",
       "      <td>109.750000</td>\n",
       "      <td>113.860001</td>\n",
       "      <td>694800.0</td>\n",
       "    </tr>\n",
       "    <tr>\n",
       "      <th>20</th>\n",
       "      <td>2016-02-03 00:00:00</td>\n",
       "      <td>WLTW</td>\n",
       "      <td>113.379997</td>\n",
       "      <td>114.050003</td>\n",
       "      <td>109.639999</td>\n",
       "      <td>114.639999</td>\n",
       "      <td>896300.0</td>\n",
       "    </tr>\n",
       "    <tr>\n",
       "      <th>21</th>\n",
       "      <td>2016-02-04 00:00:00</td>\n",
       "      <td>WLTW</td>\n",
       "      <td>114.080002</td>\n",
       "      <td>115.709999</td>\n",
       "      <td>114.080002</td>\n",
       "      <td>116.320000</td>\n",
       "      <td>956300.0</td>\n",
       "    </tr>\n",
       "    <tr>\n",
       "      <th>22</th>\n",
       "      <td>2016-02-05 00:00:00</td>\n",
       "      <td>WLTW</td>\n",
       "      <td>115.120003</td>\n",
       "      <td>114.019997</td>\n",
       "      <td>109.709999</td>\n",
       "      <td>116.489998</td>\n",
       "      <td>997100.0</td>\n",
       "    </tr>\n",
       "    <tr>\n",
       "      <th>23</th>\n",
       "      <td>2016-02-08 00:00:00</td>\n",
       "      <td>WLTW</td>\n",
       "      <td>113.300003</td>\n",
       "      <td>111.160004</td>\n",
       "      <td>110.459999</td>\n",
       "      <td>113.300003</td>\n",
       "      <td>1200500.0</td>\n",
       "    </tr>\n",
       "    <tr>\n",
       "      <th>24</th>\n",
       "      <td>2016-02-09 00:00:00</td>\n",
       "      <td>WLTW</td>\n",
       "      <td>111.169998</td>\n",
       "      <td>110.650002</td>\n",
       "      <td>109.639999</td>\n",
       "      <td>112.110001</td>\n",
       "      <td>1725200.0</td>\n",
       "    </tr>\n",
       "    <tr>\n",
       "      <th>25</th>\n",
       "      <td>2016-02-10 00:00:00</td>\n",
       "      <td>WLTW</td>\n",
       "      <td>106.730003</td>\n",
       "      <td>107.519997</td>\n",
       "      <td>106.360001</td>\n",
       "      <td>112.110001</td>\n",
       "      <td>1946000.0</td>\n",
       "    </tr>\n",
       "    <tr>\n",
       "      <th>26</th>\n",
       "      <td>2016-02-11 00:00:00</td>\n",
       "      <td>WLTW</td>\n",
       "      <td>105.629997</td>\n",
       "      <td>107.129997</td>\n",
       "      <td>104.110001</td>\n",
       "      <td>109.260002</td>\n",
       "      <td>1319500.0</td>\n",
       "    </tr>\n",
       "    <tr>\n",
       "      <th>27</th>\n",
       "      <td>2016-02-12 00:00:00</td>\n",
       "      <td>WLTW</td>\n",
       "      <td>108.559998</td>\n",
       "      <td>107.839996</td>\n",
       "      <td>107.070000</td>\n",
       "      <td>109.430000</td>\n",
       "      <td>922400.0</td>\n",
       "    </tr>\n",
       "    <tr>\n",
       "      <th>28</th>\n",
       "      <td>2016-02-16 00:00:00</td>\n",
       "      <td>WLTW</td>\n",
       "      <td>109.110001</td>\n",
       "      <td>110.769997</td>\n",
       "      <td>107.010002</td>\n",
       "      <td>111.300003</td>\n",
       "      <td>1185100.0</td>\n",
       "    </tr>\n",
       "    <tr>\n",
       "      <th>29</th>\n",
       "      <td>2016-02-17 00:00:00</td>\n",
       "      <td>WLTW</td>\n",
       "      <td>110.830002</td>\n",
       "      <td>111.239998</td>\n",
       "      <td>107.970001</td>\n",
       "      <td>112.110001</td>\n",
       "      <td>921500.0</td>\n",
       "    </tr>\n",
       "    <tr>\n",
       "      <th>...</th>\n",
       "      <td>...</td>\n",
       "      <td>...</td>\n",
       "      <td>...</td>\n",
       "      <td>...</td>\n",
       "      <td>...</td>\n",
       "      <td>...</td>\n",
       "      <td>...</td>\n",
       "    </tr>\n",
       "    <tr>\n",
       "      <th>851234</th>\n",
       "      <td>2016-12-30</td>\n",
       "      <td>WAT</td>\n",
       "      <td>135.240005</td>\n",
       "      <td>134.389999</td>\n",
       "      <td>133.710007</td>\n",
       "      <td>135.300003</td>\n",
       "      <td>464200.0</td>\n",
       "    </tr>\n",
       "    <tr>\n",
       "      <th>851235</th>\n",
       "      <td>2016-12-30</td>\n",
       "      <td>WBA</td>\n",
       "      <td>83.459999</td>\n",
       "      <td>82.760002</td>\n",
       "      <td>82.419998</td>\n",
       "      <td>83.620003</td>\n",
       "      <td>3343200.0</td>\n",
       "    </tr>\n",
       "    <tr>\n",
       "      <th>851236</th>\n",
       "      <td>2016-12-30</td>\n",
       "      <td>WDC</td>\n",
       "      <td>68.550003</td>\n",
       "      <td>67.949997</td>\n",
       "      <td>67.610001</td>\n",
       "      <td>69.400002</td>\n",
       "      <td>2824100.0</td>\n",
       "    </tr>\n",
       "    <tr>\n",
       "      <th>851237</th>\n",
       "      <td>2016-12-30</td>\n",
       "      <td>WEC</td>\n",
       "      <td>58.980000</td>\n",
       "      <td>58.650002</td>\n",
       "      <td>58.419998</td>\n",
       "      <td>59.119999</td>\n",
       "      <td>1221800.0</td>\n",
       "    </tr>\n",
       "    <tr>\n",
       "      <th>851238</th>\n",
       "      <td>2016-12-30</td>\n",
       "      <td>WFC</td>\n",
       "      <td>54.889999</td>\n",
       "      <td>55.110001</td>\n",
       "      <td>54.790001</td>\n",
       "      <td>55.360001</td>\n",
       "      <td>15095500.0</td>\n",
       "    </tr>\n",
       "    <tr>\n",
       "      <th>851239</th>\n",
       "      <td>2016-12-30</td>\n",
       "      <td>WFM</td>\n",
       "      <td>31.059999</td>\n",
       "      <td>30.760000</td>\n",
       "      <td>30.670000</td>\n",
       "      <td>31.299999</td>\n",
       "      <td>2707500.0</td>\n",
       "    </tr>\n",
       "    <tr>\n",
       "      <th>851240</th>\n",
       "      <td>2016-12-30</td>\n",
       "      <td>WHR</td>\n",
       "      <td>183.800003</td>\n",
       "      <td>181.770004</td>\n",
       "      <td>180.869995</td>\n",
       "      <td>184.289993</td>\n",
       "      <td>458200.0</td>\n",
       "    </tr>\n",
       "    <tr>\n",
       "      <th>851241</th>\n",
       "      <td>2016-12-30</td>\n",
       "      <td>WM</td>\n",
       "      <td>71.269997</td>\n",
       "      <td>70.910004</td>\n",
       "      <td>70.750000</td>\n",
       "      <td>71.500000</td>\n",
       "      <td>1230600.0</td>\n",
       "    </tr>\n",
       "    <tr>\n",
       "      <th>851242</th>\n",
       "      <td>2016-12-30</td>\n",
       "      <td>WMB</td>\n",
       "      <td>30.940001</td>\n",
       "      <td>31.139999</td>\n",
       "      <td>30.889999</td>\n",
       "      <td>31.650000</td>\n",
       "      <td>3980300.0</td>\n",
       "    </tr>\n",
       "    <tr>\n",
       "      <th>851243</th>\n",
       "      <td>2016-12-30</td>\n",
       "      <td>WMT</td>\n",
       "      <td>69.120003</td>\n",
       "      <td>69.120003</td>\n",
       "      <td>68.830002</td>\n",
       "      <td>69.430000</td>\n",
       "      <td>6872000.0</td>\n",
       "    </tr>\n",
       "    <tr>\n",
       "      <th>851244</th>\n",
       "      <td>2016-12-30</td>\n",
       "      <td>WRK</td>\n",
       "      <td>51.840000</td>\n",
       "      <td>50.770000</td>\n",
       "      <td>50.529999</td>\n",
       "      <td>51.840000</td>\n",
       "      <td>811200.0</td>\n",
       "    </tr>\n",
       "    <tr>\n",
       "      <th>851245</th>\n",
       "      <td>2016-12-30</td>\n",
       "      <td>WU</td>\n",
       "      <td>21.840000</td>\n",
       "      <td>21.719999</td>\n",
       "      <td>21.600000</td>\n",
       "      <td>21.900000</td>\n",
       "      <td>2538900.0</td>\n",
       "    </tr>\n",
       "    <tr>\n",
       "      <th>851246</th>\n",
       "      <td>2016-12-30</td>\n",
       "      <td>WY</td>\n",
       "      <td>30.450001</td>\n",
       "      <td>30.090000</td>\n",
       "      <td>29.950001</td>\n",
       "      <td>30.450001</td>\n",
       "      <td>2825300.0</td>\n",
       "    </tr>\n",
       "    <tr>\n",
       "      <th>851247</th>\n",
       "      <td>2016-12-30</td>\n",
       "      <td>WYN</td>\n",
       "      <td>76.849998</td>\n",
       "      <td>76.370003</td>\n",
       "      <td>76.180000</td>\n",
       "      <td>76.970001</td>\n",
       "      <td>524600.0</td>\n",
       "    </tr>\n",
       "    <tr>\n",
       "      <th>851248</th>\n",
       "      <td>2016-12-30</td>\n",
       "      <td>WYNN</td>\n",
       "      <td>87.099998</td>\n",
       "      <td>86.510002</td>\n",
       "      <td>85.570000</td>\n",
       "      <td>87.449997</td>\n",
       "      <td>1888500.0</td>\n",
       "    </tr>\n",
       "    <tr>\n",
       "      <th>851249</th>\n",
       "      <td>2016-12-30</td>\n",
       "      <td>XEC</td>\n",
       "      <td>136.520004</td>\n",
       "      <td>135.899994</td>\n",
       "      <td>135.309998</td>\n",
       "      <td>137.559998</td>\n",
       "      <td>466100.0</td>\n",
       "    </tr>\n",
       "    <tr>\n",
       "      <th>851250</th>\n",
       "      <td>2016-12-30</td>\n",
       "      <td>XEL</td>\n",
       "      <td>41.000000</td>\n",
       "      <td>40.700001</td>\n",
       "      <td>40.560001</td>\n",
       "      <td>41.070000</td>\n",
       "      <td>1887600.0</td>\n",
       "    </tr>\n",
       "    <tr>\n",
       "      <th>851251</th>\n",
       "      <td>2016-12-30</td>\n",
       "      <td>XL</td>\n",
       "      <td>37.360001</td>\n",
       "      <td>37.259998</td>\n",
       "      <td>37.060001</td>\n",
       "      <td>37.419998</td>\n",
       "      <td>959200.0</td>\n",
       "    </tr>\n",
       "    <tr>\n",
       "      <th>851252</th>\n",
       "      <td>2016-12-30</td>\n",
       "      <td>XLNX</td>\n",
       "      <td>61.090000</td>\n",
       "      <td>60.369999</td>\n",
       "      <td>60.020000</td>\n",
       "      <td>61.480000</td>\n",
       "      <td>2111700.0</td>\n",
       "    </tr>\n",
       "    <tr>\n",
       "      <th>851253</th>\n",
       "      <td>2016-12-30</td>\n",
       "      <td>XOM</td>\n",
       "      <td>90.029999</td>\n",
       "      <td>90.260002</td>\n",
       "      <td>90.010002</td>\n",
       "      <td>90.699997</td>\n",
       "      <td>9117800.0</td>\n",
       "    </tr>\n",
       "    <tr>\n",
       "      <th>851254</th>\n",
       "      <td>2016-12-30</td>\n",
       "      <td>XRAY</td>\n",
       "      <td>58.290001</td>\n",
       "      <td>57.730000</td>\n",
       "      <td>57.540001</td>\n",
       "      <td>58.360001</td>\n",
       "      <td>949200.0</td>\n",
       "    </tr>\n",
       "    <tr>\n",
       "      <th>851255</th>\n",
       "      <td>2016-12-30</td>\n",
       "      <td>XRX</td>\n",
       "      <td>8.720000</td>\n",
       "      <td>8.730000</td>\n",
       "      <td>8.700000</td>\n",
       "      <td>8.800000</td>\n",
       "      <td>11250400.0</td>\n",
       "    </tr>\n",
       "    <tr>\n",
       "      <th>851256</th>\n",
       "      <td>2016-12-30</td>\n",
       "      <td>XYL</td>\n",
       "      <td>49.980000</td>\n",
       "      <td>49.520000</td>\n",
       "      <td>49.360001</td>\n",
       "      <td>50.000000</td>\n",
       "      <td>646200.0</td>\n",
       "    </tr>\n",
       "    <tr>\n",
       "      <th>851257</th>\n",
       "      <td>2016-12-30</td>\n",
       "      <td>YHOO</td>\n",
       "      <td>38.720001</td>\n",
       "      <td>38.669998</td>\n",
       "      <td>38.430000</td>\n",
       "      <td>39.000000</td>\n",
       "      <td>6431600.0</td>\n",
       "    </tr>\n",
       "    <tr>\n",
       "      <th>851258</th>\n",
       "      <td>2016-12-30</td>\n",
       "      <td>YUM</td>\n",
       "      <td>63.930000</td>\n",
       "      <td>63.330002</td>\n",
       "      <td>63.160000</td>\n",
       "      <td>63.939999</td>\n",
       "      <td>1887100.0</td>\n",
       "    </tr>\n",
       "    <tr>\n",
       "      <th>851259</th>\n",
       "      <td>2016-12-30</td>\n",
       "      <td>ZBH</td>\n",
       "      <td>103.309998</td>\n",
       "      <td>103.199997</td>\n",
       "      <td>102.849998</td>\n",
       "      <td>103.930000</td>\n",
       "      <td>973800.0</td>\n",
       "    </tr>\n",
       "    <tr>\n",
       "      <th>851260</th>\n",
       "      <td>2016-12-30</td>\n",
       "      <td>ZION</td>\n",
       "      <td>43.070000</td>\n",
       "      <td>43.040001</td>\n",
       "      <td>42.689999</td>\n",
       "      <td>43.310001</td>\n",
       "      <td>1938100.0</td>\n",
       "    </tr>\n",
       "    <tr>\n",
       "      <th>851261</th>\n",
       "      <td>2016-12-30</td>\n",
       "      <td>ZTS</td>\n",
       "      <td>53.639999</td>\n",
       "      <td>53.529999</td>\n",
       "      <td>53.270000</td>\n",
       "      <td>53.740002</td>\n",
       "      <td>1701200.0</td>\n",
       "    </tr>\n",
       "    <tr>\n",
       "      <th>851262</th>\n",
       "      <td>2016-12-30 00:00:00</td>\n",
       "      <td>AIV</td>\n",
       "      <td>44.730000</td>\n",
       "      <td>45.450001</td>\n",
       "      <td>44.410000</td>\n",
       "      <td>45.590000</td>\n",
       "      <td>1380900.0</td>\n",
       "    </tr>\n",
       "    <tr>\n",
       "      <th>851263</th>\n",
       "      <td>2016-12-30 00:00:00</td>\n",
       "      <td>FTV</td>\n",
       "      <td>54.200001</td>\n",
       "      <td>53.630001</td>\n",
       "      <td>53.389999</td>\n",
       "      <td>54.480000</td>\n",
       "      <td>705100.0</td>\n",
       "    </tr>\n",
       "  </tbody>\n",
       "</table>\n",
       "<p>851264 rows × 7 columns</p>\n",
       "</div>"
      ],
      "text/plain": [
       "                       date symbol        open       close         low  \\\n",
       "0       2016-01-05 00:00:00   WLTW  123.430000  125.839996  122.309998   \n",
       "1       2016-01-06 00:00:00   WLTW  125.239998  119.980003  119.940002   \n",
       "2       2016-01-07 00:00:00   WLTW  116.379997  114.949997  114.930000   \n",
       "3       2016-01-08 00:00:00   WLTW  115.480003  116.620003  113.500000   \n",
       "4       2016-01-11 00:00:00   WLTW  117.010002  114.970001  114.089996   \n",
       "5       2016-01-12 00:00:00   WLTW  115.510002  115.550003  114.500000   \n",
       "6       2016-01-13 00:00:00   WLTW  116.459999  112.849998  112.589996   \n",
       "7       2016-01-14 00:00:00   WLTW  113.510002  114.379997  110.050003   \n",
       "8       2016-01-15 00:00:00   WLTW  113.330002  112.529999  111.919998   \n",
       "9       2016-01-19 00:00:00   WLTW  113.660004  110.379997  109.870003   \n",
       "10      2016-01-20 00:00:00   WLTW  109.059998  109.300003  108.320000   \n",
       "11      2016-01-21 00:00:00   WLTW  109.730003  110.000000  108.320000   \n",
       "12      2016-01-22 00:00:00   WLTW  111.879997  111.949997  110.190002   \n",
       "13      2016-01-25 00:00:00   WLTW  111.320000  110.120003  110.000000   \n",
       "14      2016-01-26 00:00:00   WLTW  110.419998  111.000000  107.300003   \n",
       "15      2016-01-27 00:00:00   WLTW  110.769997  110.709999  109.019997   \n",
       "16      2016-01-28 00:00:00   WLTW  110.900002  112.580002  109.900002   \n",
       "17      2016-01-29 00:00:00   WLTW  113.349998  114.470001  111.669998   \n",
       "18      2016-02-01 00:00:00   WLTW  114.000000  114.500000  112.900002   \n",
       "19      2016-02-02 00:00:00   WLTW  113.250000  110.559998  109.750000   \n",
       "20      2016-02-03 00:00:00   WLTW  113.379997  114.050003  109.639999   \n",
       "21      2016-02-04 00:00:00   WLTW  114.080002  115.709999  114.080002   \n",
       "22      2016-02-05 00:00:00   WLTW  115.120003  114.019997  109.709999   \n",
       "23      2016-02-08 00:00:00   WLTW  113.300003  111.160004  110.459999   \n",
       "24      2016-02-09 00:00:00   WLTW  111.169998  110.650002  109.639999   \n",
       "25      2016-02-10 00:00:00   WLTW  106.730003  107.519997  106.360001   \n",
       "26      2016-02-11 00:00:00   WLTW  105.629997  107.129997  104.110001   \n",
       "27      2016-02-12 00:00:00   WLTW  108.559998  107.839996  107.070000   \n",
       "28      2016-02-16 00:00:00   WLTW  109.110001  110.769997  107.010002   \n",
       "29      2016-02-17 00:00:00   WLTW  110.830002  111.239998  107.970001   \n",
       "...                     ...    ...         ...         ...         ...   \n",
       "851234           2016-12-30    WAT  135.240005  134.389999  133.710007   \n",
       "851235           2016-12-30    WBA   83.459999   82.760002   82.419998   \n",
       "851236           2016-12-30    WDC   68.550003   67.949997   67.610001   \n",
       "851237           2016-12-30    WEC   58.980000   58.650002   58.419998   \n",
       "851238           2016-12-30    WFC   54.889999   55.110001   54.790001   \n",
       "851239           2016-12-30    WFM   31.059999   30.760000   30.670000   \n",
       "851240           2016-12-30    WHR  183.800003  181.770004  180.869995   \n",
       "851241           2016-12-30     WM   71.269997   70.910004   70.750000   \n",
       "851242           2016-12-30    WMB   30.940001   31.139999   30.889999   \n",
       "851243           2016-12-30    WMT   69.120003   69.120003   68.830002   \n",
       "851244           2016-12-30    WRK   51.840000   50.770000   50.529999   \n",
       "851245           2016-12-30     WU   21.840000   21.719999   21.600000   \n",
       "851246           2016-12-30     WY   30.450001   30.090000   29.950001   \n",
       "851247           2016-12-30    WYN   76.849998   76.370003   76.180000   \n",
       "851248           2016-12-30   WYNN   87.099998   86.510002   85.570000   \n",
       "851249           2016-12-30    XEC  136.520004  135.899994  135.309998   \n",
       "851250           2016-12-30    XEL   41.000000   40.700001   40.560001   \n",
       "851251           2016-12-30     XL   37.360001   37.259998   37.060001   \n",
       "851252           2016-12-30   XLNX   61.090000   60.369999   60.020000   \n",
       "851253           2016-12-30    XOM   90.029999   90.260002   90.010002   \n",
       "851254           2016-12-30   XRAY   58.290001   57.730000   57.540001   \n",
       "851255           2016-12-30    XRX    8.720000    8.730000    8.700000   \n",
       "851256           2016-12-30    XYL   49.980000   49.520000   49.360001   \n",
       "851257           2016-12-30   YHOO   38.720001   38.669998   38.430000   \n",
       "851258           2016-12-30    YUM   63.930000   63.330002   63.160000   \n",
       "851259           2016-12-30    ZBH  103.309998  103.199997  102.849998   \n",
       "851260           2016-12-30   ZION   43.070000   43.040001   42.689999   \n",
       "851261           2016-12-30    ZTS   53.639999   53.529999   53.270000   \n",
       "851262  2016-12-30 00:00:00    AIV   44.730000   45.450001   44.410000   \n",
       "851263  2016-12-30 00:00:00    FTV   54.200001   53.630001   53.389999   \n",
       "\n",
       "              high      volume  \n",
       "0       126.250000   2163600.0  \n",
       "1       125.540001   2386400.0  \n",
       "2       119.739998   2489500.0  \n",
       "3       117.440002   2006300.0  \n",
       "4       117.330002   1408600.0  \n",
       "5       116.059998   1098000.0  \n",
       "6       117.070000    949600.0  \n",
       "7       115.029999    785300.0  \n",
       "8       114.879997   1093700.0  \n",
       "9       115.870003   1523500.0  \n",
       "10      111.599998   1653900.0  \n",
       "11      110.580002    944300.0  \n",
       "12      112.949997    744900.0  \n",
       "13      114.629997    703800.0  \n",
       "14      111.400002    563100.0  \n",
       "15      112.570000    896100.0  \n",
       "16      112.970001    680400.0  \n",
       "17      114.589996    749900.0  \n",
       "18      114.849998    574200.0  \n",
       "19      113.860001    694800.0  \n",
       "20      114.639999    896300.0  \n",
       "21      116.320000    956300.0  \n",
       "22      116.489998    997100.0  \n",
       "23      113.300003   1200500.0  \n",
       "24      112.110001   1725200.0  \n",
       "25      112.110001   1946000.0  \n",
       "26      109.260002   1319500.0  \n",
       "27      109.430000    922400.0  \n",
       "28      111.300003   1185100.0  \n",
       "29      112.110001    921500.0  \n",
       "...            ...         ...  \n",
       "851234  135.300003    464200.0  \n",
       "851235   83.620003   3343200.0  \n",
       "851236   69.400002   2824100.0  \n",
       "851237   59.119999   1221800.0  \n",
       "851238   55.360001  15095500.0  \n",
       "851239   31.299999   2707500.0  \n",
       "851240  184.289993    458200.0  \n",
       "851241   71.500000   1230600.0  \n",
       "851242   31.650000   3980300.0  \n",
       "851243   69.430000   6872000.0  \n",
       "851244   51.840000    811200.0  \n",
       "851245   21.900000   2538900.0  \n",
       "851246   30.450001   2825300.0  \n",
       "851247   76.970001    524600.0  \n",
       "851248   87.449997   1888500.0  \n",
       "851249  137.559998    466100.0  \n",
       "851250   41.070000   1887600.0  \n",
       "851251   37.419998    959200.0  \n",
       "851252   61.480000   2111700.0  \n",
       "851253   90.699997   9117800.0  \n",
       "851254   58.360001    949200.0  \n",
       "851255    8.800000  11250400.0  \n",
       "851256   50.000000    646200.0  \n",
       "851257   39.000000   6431600.0  \n",
       "851258   63.939999   1887100.0  \n",
       "851259  103.930000    973800.0  \n",
       "851260   43.310001   1938100.0  \n",
       "851261   53.740002   1701200.0  \n",
       "851262   45.590000   1380900.0  \n",
       "851263   54.480000    705100.0  \n",
       "\n",
       "[851264 rows x 7 columns]"
      ]
     },
     "execution_count": 249,
     "metadata": {},
     "output_type": "execute_result"
    }
   ],
   "source": [
    "data.dropna()   "
   ]
  },
  {
   "cell_type": "markdown",
   "metadata": {
    "colab_type": "text",
    "id": "9J4BlzVA_gZd"
   },
   "source": [
    "### Drop columns\n",
    "- Now, we don't need \"date\", \"volume\" and \"symbol\" column\n",
    "- drop \"date\", \"volume\" and \"symbol\" column from the data\n"
   ]
  },
  {
   "cell_type": "code",
   "execution_count": 250,
   "metadata": {
    "colab": {},
    "colab_type": "code",
    "id": "IKEK8aEE_Csx"
   },
   "outputs": [],
   "source": [
    "df = data.iloc[:,2:6]"
   ]
  },
  {
   "cell_type": "markdown",
   "metadata": {
    "colab_type": "text",
    "id": "cTPhO6v-AiZt"
   },
   "source": [
    "## Question 3"
   ]
  },
  {
   "cell_type": "markdown",
   "metadata": {
    "colab_type": "text",
    "id": "SsZXmF3NAkna"
   },
   "source": [
    "### Print the dataframe\n",
    "- print the modified dataframe"
   ]
  },
  {
   "cell_type": "code",
   "execution_count": 251,
   "metadata": {
    "colab": {},
    "colab_type": "code",
    "id": "aKs04iIHAjxN"
   },
   "outputs": [
    {
     "data": {
      "text/html": [
       "<div>\n",
       "<style scoped>\n",
       "    .dataframe tbody tr th:only-of-type {\n",
       "        vertical-align: middle;\n",
       "    }\n",
       "\n",
       "    .dataframe tbody tr th {\n",
       "        vertical-align: top;\n",
       "    }\n",
       "\n",
       "    .dataframe thead th {\n",
       "        text-align: right;\n",
       "    }\n",
       "</style>\n",
       "<table border=\"1\" class=\"dataframe\">\n",
       "  <thead>\n",
       "    <tr style=\"text-align: right;\">\n",
       "      <th></th>\n",
       "      <th>open</th>\n",
       "      <th>close</th>\n",
       "      <th>low</th>\n",
       "      <th>high</th>\n",
       "    </tr>\n",
       "  </thead>\n",
       "  <tbody>\n",
       "    <tr>\n",
       "      <th>0</th>\n",
       "      <td>123.430000</td>\n",
       "      <td>125.839996</td>\n",
       "      <td>122.309998</td>\n",
       "      <td>126.250000</td>\n",
       "    </tr>\n",
       "    <tr>\n",
       "      <th>1</th>\n",
       "      <td>125.239998</td>\n",
       "      <td>119.980003</td>\n",
       "      <td>119.940002</td>\n",
       "      <td>125.540001</td>\n",
       "    </tr>\n",
       "    <tr>\n",
       "      <th>2</th>\n",
       "      <td>116.379997</td>\n",
       "      <td>114.949997</td>\n",
       "      <td>114.930000</td>\n",
       "      <td>119.739998</td>\n",
       "    </tr>\n",
       "    <tr>\n",
       "      <th>3</th>\n",
       "      <td>115.480003</td>\n",
       "      <td>116.620003</td>\n",
       "      <td>113.500000</td>\n",
       "      <td>117.440002</td>\n",
       "    </tr>\n",
       "    <tr>\n",
       "      <th>4</th>\n",
       "      <td>117.010002</td>\n",
       "      <td>114.970001</td>\n",
       "      <td>114.089996</td>\n",
       "      <td>117.330002</td>\n",
       "    </tr>\n",
       "    <tr>\n",
       "      <th>5</th>\n",
       "      <td>115.510002</td>\n",
       "      <td>115.550003</td>\n",
       "      <td>114.500000</td>\n",
       "      <td>116.059998</td>\n",
       "    </tr>\n",
       "    <tr>\n",
       "      <th>6</th>\n",
       "      <td>116.459999</td>\n",
       "      <td>112.849998</td>\n",
       "      <td>112.589996</td>\n",
       "      <td>117.070000</td>\n",
       "    </tr>\n",
       "    <tr>\n",
       "      <th>7</th>\n",
       "      <td>113.510002</td>\n",
       "      <td>114.379997</td>\n",
       "      <td>110.050003</td>\n",
       "      <td>115.029999</td>\n",
       "    </tr>\n",
       "    <tr>\n",
       "      <th>8</th>\n",
       "      <td>113.330002</td>\n",
       "      <td>112.529999</td>\n",
       "      <td>111.919998</td>\n",
       "      <td>114.879997</td>\n",
       "    </tr>\n",
       "    <tr>\n",
       "      <th>9</th>\n",
       "      <td>113.660004</td>\n",
       "      <td>110.379997</td>\n",
       "      <td>109.870003</td>\n",
       "      <td>115.870003</td>\n",
       "    </tr>\n",
       "    <tr>\n",
       "      <th>10</th>\n",
       "      <td>109.059998</td>\n",
       "      <td>109.300003</td>\n",
       "      <td>108.320000</td>\n",
       "      <td>111.599998</td>\n",
       "    </tr>\n",
       "    <tr>\n",
       "      <th>11</th>\n",
       "      <td>109.730003</td>\n",
       "      <td>110.000000</td>\n",
       "      <td>108.320000</td>\n",
       "      <td>110.580002</td>\n",
       "    </tr>\n",
       "    <tr>\n",
       "      <th>12</th>\n",
       "      <td>111.879997</td>\n",
       "      <td>111.949997</td>\n",
       "      <td>110.190002</td>\n",
       "      <td>112.949997</td>\n",
       "    </tr>\n",
       "    <tr>\n",
       "      <th>13</th>\n",
       "      <td>111.320000</td>\n",
       "      <td>110.120003</td>\n",
       "      <td>110.000000</td>\n",
       "      <td>114.629997</td>\n",
       "    </tr>\n",
       "    <tr>\n",
       "      <th>14</th>\n",
       "      <td>110.419998</td>\n",
       "      <td>111.000000</td>\n",
       "      <td>107.300003</td>\n",
       "      <td>111.400002</td>\n",
       "    </tr>\n",
       "    <tr>\n",
       "      <th>15</th>\n",
       "      <td>110.769997</td>\n",
       "      <td>110.709999</td>\n",
       "      <td>109.019997</td>\n",
       "      <td>112.570000</td>\n",
       "    </tr>\n",
       "    <tr>\n",
       "      <th>16</th>\n",
       "      <td>110.900002</td>\n",
       "      <td>112.580002</td>\n",
       "      <td>109.900002</td>\n",
       "      <td>112.970001</td>\n",
       "    </tr>\n",
       "    <tr>\n",
       "      <th>17</th>\n",
       "      <td>113.349998</td>\n",
       "      <td>114.470001</td>\n",
       "      <td>111.669998</td>\n",
       "      <td>114.589996</td>\n",
       "    </tr>\n",
       "    <tr>\n",
       "      <th>18</th>\n",
       "      <td>114.000000</td>\n",
       "      <td>114.500000</td>\n",
       "      <td>112.900002</td>\n",
       "      <td>114.849998</td>\n",
       "    </tr>\n",
       "    <tr>\n",
       "      <th>19</th>\n",
       "      <td>113.250000</td>\n",
       "      <td>110.559998</td>\n",
       "      <td>109.750000</td>\n",
       "      <td>113.860001</td>\n",
       "    </tr>\n",
       "    <tr>\n",
       "      <th>20</th>\n",
       "      <td>113.379997</td>\n",
       "      <td>114.050003</td>\n",
       "      <td>109.639999</td>\n",
       "      <td>114.639999</td>\n",
       "    </tr>\n",
       "    <tr>\n",
       "      <th>21</th>\n",
       "      <td>114.080002</td>\n",
       "      <td>115.709999</td>\n",
       "      <td>114.080002</td>\n",
       "      <td>116.320000</td>\n",
       "    </tr>\n",
       "    <tr>\n",
       "      <th>22</th>\n",
       "      <td>115.120003</td>\n",
       "      <td>114.019997</td>\n",
       "      <td>109.709999</td>\n",
       "      <td>116.489998</td>\n",
       "    </tr>\n",
       "    <tr>\n",
       "      <th>23</th>\n",
       "      <td>113.300003</td>\n",
       "      <td>111.160004</td>\n",
       "      <td>110.459999</td>\n",
       "      <td>113.300003</td>\n",
       "    </tr>\n",
       "    <tr>\n",
       "      <th>24</th>\n",
       "      <td>111.169998</td>\n",
       "      <td>110.650002</td>\n",
       "      <td>109.639999</td>\n",
       "      <td>112.110001</td>\n",
       "    </tr>\n",
       "    <tr>\n",
       "      <th>25</th>\n",
       "      <td>106.730003</td>\n",
       "      <td>107.519997</td>\n",
       "      <td>106.360001</td>\n",
       "      <td>112.110001</td>\n",
       "    </tr>\n",
       "    <tr>\n",
       "      <th>26</th>\n",
       "      <td>105.629997</td>\n",
       "      <td>107.129997</td>\n",
       "      <td>104.110001</td>\n",
       "      <td>109.260002</td>\n",
       "    </tr>\n",
       "    <tr>\n",
       "      <th>27</th>\n",
       "      <td>108.559998</td>\n",
       "      <td>107.839996</td>\n",
       "      <td>107.070000</td>\n",
       "      <td>109.430000</td>\n",
       "    </tr>\n",
       "    <tr>\n",
       "      <th>28</th>\n",
       "      <td>109.110001</td>\n",
       "      <td>110.769997</td>\n",
       "      <td>107.010002</td>\n",
       "      <td>111.300003</td>\n",
       "    </tr>\n",
       "    <tr>\n",
       "      <th>29</th>\n",
       "      <td>110.830002</td>\n",
       "      <td>111.239998</td>\n",
       "      <td>107.970001</td>\n",
       "      <td>112.110001</td>\n",
       "    </tr>\n",
       "    <tr>\n",
       "      <th>...</th>\n",
       "      <td>...</td>\n",
       "      <td>...</td>\n",
       "      <td>...</td>\n",
       "      <td>...</td>\n",
       "    </tr>\n",
       "    <tr>\n",
       "      <th>851234</th>\n",
       "      <td>135.240005</td>\n",
       "      <td>134.389999</td>\n",
       "      <td>133.710007</td>\n",
       "      <td>135.300003</td>\n",
       "    </tr>\n",
       "    <tr>\n",
       "      <th>851235</th>\n",
       "      <td>83.459999</td>\n",
       "      <td>82.760002</td>\n",
       "      <td>82.419998</td>\n",
       "      <td>83.620003</td>\n",
       "    </tr>\n",
       "    <tr>\n",
       "      <th>851236</th>\n",
       "      <td>68.550003</td>\n",
       "      <td>67.949997</td>\n",
       "      <td>67.610001</td>\n",
       "      <td>69.400002</td>\n",
       "    </tr>\n",
       "    <tr>\n",
       "      <th>851237</th>\n",
       "      <td>58.980000</td>\n",
       "      <td>58.650002</td>\n",
       "      <td>58.419998</td>\n",
       "      <td>59.119999</td>\n",
       "    </tr>\n",
       "    <tr>\n",
       "      <th>851238</th>\n",
       "      <td>54.889999</td>\n",
       "      <td>55.110001</td>\n",
       "      <td>54.790001</td>\n",
       "      <td>55.360001</td>\n",
       "    </tr>\n",
       "    <tr>\n",
       "      <th>851239</th>\n",
       "      <td>31.059999</td>\n",
       "      <td>30.760000</td>\n",
       "      <td>30.670000</td>\n",
       "      <td>31.299999</td>\n",
       "    </tr>\n",
       "    <tr>\n",
       "      <th>851240</th>\n",
       "      <td>183.800003</td>\n",
       "      <td>181.770004</td>\n",
       "      <td>180.869995</td>\n",
       "      <td>184.289993</td>\n",
       "    </tr>\n",
       "    <tr>\n",
       "      <th>851241</th>\n",
       "      <td>71.269997</td>\n",
       "      <td>70.910004</td>\n",
       "      <td>70.750000</td>\n",
       "      <td>71.500000</td>\n",
       "    </tr>\n",
       "    <tr>\n",
       "      <th>851242</th>\n",
       "      <td>30.940001</td>\n",
       "      <td>31.139999</td>\n",
       "      <td>30.889999</td>\n",
       "      <td>31.650000</td>\n",
       "    </tr>\n",
       "    <tr>\n",
       "      <th>851243</th>\n",
       "      <td>69.120003</td>\n",
       "      <td>69.120003</td>\n",
       "      <td>68.830002</td>\n",
       "      <td>69.430000</td>\n",
       "    </tr>\n",
       "    <tr>\n",
       "      <th>851244</th>\n",
       "      <td>51.840000</td>\n",
       "      <td>50.770000</td>\n",
       "      <td>50.529999</td>\n",
       "      <td>51.840000</td>\n",
       "    </tr>\n",
       "    <tr>\n",
       "      <th>851245</th>\n",
       "      <td>21.840000</td>\n",
       "      <td>21.719999</td>\n",
       "      <td>21.600000</td>\n",
       "      <td>21.900000</td>\n",
       "    </tr>\n",
       "    <tr>\n",
       "      <th>851246</th>\n",
       "      <td>30.450001</td>\n",
       "      <td>30.090000</td>\n",
       "      <td>29.950001</td>\n",
       "      <td>30.450001</td>\n",
       "    </tr>\n",
       "    <tr>\n",
       "      <th>851247</th>\n",
       "      <td>76.849998</td>\n",
       "      <td>76.370003</td>\n",
       "      <td>76.180000</td>\n",
       "      <td>76.970001</td>\n",
       "    </tr>\n",
       "    <tr>\n",
       "      <th>851248</th>\n",
       "      <td>87.099998</td>\n",
       "      <td>86.510002</td>\n",
       "      <td>85.570000</td>\n",
       "      <td>87.449997</td>\n",
       "    </tr>\n",
       "    <tr>\n",
       "      <th>851249</th>\n",
       "      <td>136.520004</td>\n",
       "      <td>135.899994</td>\n",
       "      <td>135.309998</td>\n",
       "      <td>137.559998</td>\n",
       "    </tr>\n",
       "    <tr>\n",
       "      <th>851250</th>\n",
       "      <td>41.000000</td>\n",
       "      <td>40.700001</td>\n",
       "      <td>40.560001</td>\n",
       "      <td>41.070000</td>\n",
       "    </tr>\n",
       "    <tr>\n",
       "      <th>851251</th>\n",
       "      <td>37.360001</td>\n",
       "      <td>37.259998</td>\n",
       "      <td>37.060001</td>\n",
       "      <td>37.419998</td>\n",
       "    </tr>\n",
       "    <tr>\n",
       "      <th>851252</th>\n",
       "      <td>61.090000</td>\n",
       "      <td>60.369999</td>\n",
       "      <td>60.020000</td>\n",
       "      <td>61.480000</td>\n",
       "    </tr>\n",
       "    <tr>\n",
       "      <th>851253</th>\n",
       "      <td>90.029999</td>\n",
       "      <td>90.260002</td>\n",
       "      <td>90.010002</td>\n",
       "      <td>90.699997</td>\n",
       "    </tr>\n",
       "    <tr>\n",
       "      <th>851254</th>\n",
       "      <td>58.290001</td>\n",
       "      <td>57.730000</td>\n",
       "      <td>57.540001</td>\n",
       "      <td>58.360001</td>\n",
       "    </tr>\n",
       "    <tr>\n",
       "      <th>851255</th>\n",
       "      <td>8.720000</td>\n",
       "      <td>8.730000</td>\n",
       "      <td>8.700000</td>\n",
       "      <td>8.800000</td>\n",
       "    </tr>\n",
       "    <tr>\n",
       "      <th>851256</th>\n",
       "      <td>49.980000</td>\n",
       "      <td>49.520000</td>\n",
       "      <td>49.360001</td>\n",
       "      <td>50.000000</td>\n",
       "    </tr>\n",
       "    <tr>\n",
       "      <th>851257</th>\n",
       "      <td>38.720001</td>\n",
       "      <td>38.669998</td>\n",
       "      <td>38.430000</td>\n",
       "      <td>39.000000</td>\n",
       "    </tr>\n",
       "    <tr>\n",
       "      <th>851258</th>\n",
       "      <td>63.930000</td>\n",
       "      <td>63.330002</td>\n",
       "      <td>63.160000</td>\n",
       "      <td>63.939999</td>\n",
       "    </tr>\n",
       "    <tr>\n",
       "      <th>851259</th>\n",
       "      <td>103.309998</td>\n",
       "      <td>103.199997</td>\n",
       "      <td>102.849998</td>\n",
       "      <td>103.930000</td>\n",
       "    </tr>\n",
       "    <tr>\n",
       "      <th>851260</th>\n",
       "      <td>43.070000</td>\n",
       "      <td>43.040001</td>\n",
       "      <td>42.689999</td>\n",
       "      <td>43.310001</td>\n",
       "    </tr>\n",
       "    <tr>\n",
       "      <th>851261</th>\n",
       "      <td>53.639999</td>\n",
       "      <td>53.529999</td>\n",
       "      <td>53.270000</td>\n",
       "      <td>53.740002</td>\n",
       "    </tr>\n",
       "    <tr>\n",
       "      <th>851262</th>\n",
       "      <td>44.730000</td>\n",
       "      <td>45.450001</td>\n",
       "      <td>44.410000</td>\n",
       "      <td>45.590000</td>\n",
       "    </tr>\n",
       "    <tr>\n",
       "      <th>851263</th>\n",
       "      <td>54.200001</td>\n",
       "      <td>53.630001</td>\n",
       "      <td>53.389999</td>\n",
       "      <td>54.480000</td>\n",
       "    </tr>\n",
       "  </tbody>\n",
       "</table>\n",
       "<p>851264 rows × 4 columns</p>\n",
       "</div>"
      ],
      "text/plain": [
       "              open       close         low        high\n",
       "0       123.430000  125.839996  122.309998  126.250000\n",
       "1       125.239998  119.980003  119.940002  125.540001\n",
       "2       116.379997  114.949997  114.930000  119.739998\n",
       "3       115.480003  116.620003  113.500000  117.440002\n",
       "4       117.010002  114.970001  114.089996  117.330002\n",
       "5       115.510002  115.550003  114.500000  116.059998\n",
       "6       116.459999  112.849998  112.589996  117.070000\n",
       "7       113.510002  114.379997  110.050003  115.029999\n",
       "8       113.330002  112.529999  111.919998  114.879997\n",
       "9       113.660004  110.379997  109.870003  115.870003\n",
       "10      109.059998  109.300003  108.320000  111.599998\n",
       "11      109.730003  110.000000  108.320000  110.580002\n",
       "12      111.879997  111.949997  110.190002  112.949997\n",
       "13      111.320000  110.120003  110.000000  114.629997\n",
       "14      110.419998  111.000000  107.300003  111.400002\n",
       "15      110.769997  110.709999  109.019997  112.570000\n",
       "16      110.900002  112.580002  109.900002  112.970001\n",
       "17      113.349998  114.470001  111.669998  114.589996\n",
       "18      114.000000  114.500000  112.900002  114.849998\n",
       "19      113.250000  110.559998  109.750000  113.860001\n",
       "20      113.379997  114.050003  109.639999  114.639999\n",
       "21      114.080002  115.709999  114.080002  116.320000\n",
       "22      115.120003  114.019997  109.709999  116.489998\n",
       "23      113.300003  111.160004  110.459999  113.300003\n",
       "24      111.169998  110.650002  109.639999  112.110001\n",
       "25      106.730003  107.519997  106.360001  112.110001\n",
       "26      105.629997  107.129997  104.110001  109.260002\n",
       "27      108.559998  107.839996  107.070000  109.430000\n",
       "28      109.110001  110.769997  107.010002  111.300003\n",
       "29      110.830002  111.239998  107.970001  112.110001\n",
       "...            ...         ...         ...         ...\n",
       "851234  135.240005  134.389999  133.710007  135.300003\n",
       "851235   83.459999   82.760002   82.419998   83.620003\n",
       "851236   68.550003   67.949997   67.610001   69.400002\n",
       "851237   58.980000   58.650002   58.419998   59.119999\n",
       "851238   54.889999   55.110001   54.790001   55.360001\n",
       "851239   31.059999   30.760000   30.670000   31.299999\n",
       "851240  183.800003  181.770004  180.869995  184.289993\n",
       "851241   71.269997   70.910004   70.750000   71.500000\n",
       "851242   30.940001   31.139999   30.889999   31.650000\n",
       "851243   69.120003   69.120003   68.830002   69.430000\n",
       "851244   51.840000   50.770000   50.529999   51.840000\n",
       "851245   21.840000   21.719999   21.600000   21.900000\n",
       "851246   30.450001   30.090000   29.950001   30.450001\n",
       "851247   76.849998   76.370003   76.180000   76.970001\n",
       "851248   87.099998   86.510002   85.570000   87.449997\n",
       "851249  136.520004  135.899994  135.309998  137.559998\n",
       "851250   41.000000   40.700001   40.560001   41.070000\n",
       "851251   37.360001   37.259998   37.060001   37.419998\n",
       "851252   61.090000   60.369999   60.020000   61.480000\n",
       "851253   90.029999   90.260002   90.010002   90.699997\n",
       "851254   58.290001   57.730000   57.540001   58.360001\n",
       "851255    8.720000    8.730000    8.700000    8.800000\n",
       "851256   49.980000   49.520000   49.360001   50.000000\n",
       "851257   38.720001   38.669998   38.430000   39.000000\n",
       "851258   63.930000   63.330002   63.160000   63.939999\n",
       "851259  103.309998  103.199997  102.849998  103.930000\n",
       "851260   43.070000   43.040001   42.689999   43.310001\n",
       "851261   53.639999   53.529999   53.270000   53.740002\n",
       "851262   44.730000   45.450001   44.410000   45.590000\n",
       "851263   54.200001   53.630001   53.389999   54.480000\n",
       "\n",
       "[851264 rows x 4 columns]"
      ]
     },
     "execution_count": 251,
     "metadata": {},
     "output_type": "execute_result"
    }
   ],
   "source": [
    "df"
   ]
  },
  {
   "cell_type": "markdown",
   "metadata": {
    "colab_type": "text",
    "id": "C8u_jlbABTip"
   },
   "source": [
    "### Get features and label from the dataset in separate variable\n",
    "- Let's separate labels and features now. We are going to predict the value for \"close\" column so that will be our label. Our features will be \"open\", \"low\", \"high\"\n",
    "- Take \"open\" \"low\", \"high\" columns as features\n",
    "- Take \"close\" column as label"
   ]
  },
  {
   "cell_type": "code",
   "execution_count": 252,
   "metadata": {
    "colab": {},
    "colab_type": "code",
    "id": "xQjCMzUXBJbg"
   },
   "outputs": [
    {
     "data": {
      "text/html": [
       "<div>\n",
       "<style scoped>\n",
       "    .dataframe tbody tr th:only-of-type {\n",
       "        vertical-align: middle;\n",
       "    }\n",
       "\n",
       "    .dataframe tbody tr th {\n",
       "        vertical-align: top;\n",
       "    }\n",
       "\n",
       "    .dataframe thead th {\n",
       "        text-align: right;\n",
       "    }\n",
       "</style>\n",
       "<table border=\"1\" class=\"dataframe\">\n",
       "  <thead>\n",
       "    <tr style=\"text-align: right;\">\n",
       "      <th></th>\n",
       "      <th>open</th>\n",
       "      <th>low</th>\n",
       "      <th>high</th>\n",
       "    </tr>\n",
       "  </thead>\n",
       "  <tbody>\n",
       "    <tr>\n",
       "      <th>0</th>\n",
       "      <td>123.430000</td>\n",
       "      <td>122.309998</td>\n",
       "      <td>126.250000</td>\n",
       "    </tr>\n",
       "    <tr>\n",
       "      <th>1</th>\n",
       "      <td>125.239998</td>\n",
       "      <td>119.940002</td>\n",
       "      <td>125.540001</td>\n",
       "    </tr>\n",
       "    <tr>\n",
       "      <th>2</th>\n",
       "      <td>116.379997</td>\n",
       "      <td>114.930000</td>\n",
       "      <td>119.739998</td>\n",
       "    </tr>\n",
       "    <tr>\n",
       "      <th>3</th>\n",
       "      <td>115.480003</td>\n",
       "      <td>113.500000</td>\n",
       "      <td>117.440002</td>\n",
       "    </tr>\n",
       "    <tr>\n",
       "      <th>4</th>\n",
       "      <td>117.010002</td>\n",
       "      <td>114.089996</td>\n",
       "      <td>117.330002</td>\n",
       "    </tr>\n",
       "  </tbody>\n",
       "</table>\n",
       "</div>"
      ],
      "text/plain": [
       "         open         low        high\n",
       "0  123.430000  122.309998  126.250000\n",
       "1  125.239998  119.940002  125.540001\n",
       "2  116.379997  114.930000  119.739998\n",
       "3  115.480003  113.500000  117.440002\n",
       "4  117.010002  114.089996  117.330002"
      ]
     },
     "execution_count": 252,
     "metadata": {},
     "output_type": "execute_result"
    }
   ],
   "source": [
    "X = df.drop(\"close\",axis=\"columns\")\n",
    "X.head()"
   ]
  },
  {
   "cell_type": "code",
   "execution_count": 253,
   "metadata": {},
   "outputs": [
    {
     "data": {
      "text/html": [
       "<div>\n",
       "<style scoped>\n",
       "    .dataframe tbody tr th:only-of-type {\n",
       "        vertical-align: middle;\n",
       "    }\n",
       "\n",
       "    .dataframe tbody tr th {\n",
       "        vertical-align: top;\n",
       "    }\n",
       "\n",
       "    .dataframe thead th {\n",
       "        text-align: right;\n",
       "    }\n",
       "</style>\n",
       "<table border=\"1\" class=\"dataframe\">\n",
       "  <thead>\n",
       "    <tr style=\"text-align: right;\">\n",
       "      <th></th>\n",
       "      <th>close</th>\n",
       "    </tr>\n",
       "  </thead>\n",
       "  <tbody>\n",
       "    <tr>\n",
       "      <th>0</th>\n",
       "      <td>125.839996</td>\n",
       "    </tr>\n",
       "    <tr>\n",
       "      <th>1</th>\n",
       "      <td>119.980003</td>\n",
       "    </tr>\n",
       "    <tr>\n",
       "      <th>2</th>\n",
       "      <td>114.949997</td>\n",
       "    </tr>\n",
       "    <tr>\n",
       "      <th>3</th>\n",
       "      <td>116.620003</td>\n",
       "    </tr>\n",
       "    <tr>\n",
       "      <th>4</th>\n",
       "      <td>114.970001</td>\n",
       "    </tr>\n",
       "  </tbody>\n",
       "</table>\n",
       "</div>"
      ],
      "text/plain": [
       "        close\n",
       "0  125.839996\n",
       "1  119.980003\n",
       "2  114.949997\n",
       "3  116.620003\n",
       "4  114.970001"
      ]
     },
     "execution_count": 253,
     "metadata": {},
     "output_type": "execute_result"
    }
   ],
   "source": [
    "y = df.iloc[:,1:2]\n",
    "y.head()"
   ]
  },
  {
   "cell_type": "markdown",
   "metadata": {
    "colab_type": "text",
    "id": "6vGtnapgBIJm"
   },
   "source": [
    "## Question 4"
   ]
  },
  {
   "cell_type": "markdown",
   "metadata": {
    "colab_type": "text",
    "id": "8pZAKdJ5gcrm"
   },
   "source": [
    "### Create train and test sets\n",
    "- Split the data into training and testing"
   ]
  },
  {
   "cell_type": "code",
   "execution_count": 254,
   "metadata": {
    "colab": {},
    "colab_type": "code",
    "id": "KalRqA6Rgqsn"
   },
   "outputs": [],
   "source": [
    "from sklearn.model_selection import train_test_split\n",
    "X_train, X_test, y_train, y_test = train_test_split(X, y, test_size=0.30, random_state=42)"
   ]
  },
  {
   "cell_type": "markdown",
   "metadata": {
    "colab_type": "text",
    "id": "aTAKzlxZBz0z"
   },
   "source": [
    "## Question 5"
   ]
  },
  {
   "cell_type": "markdown",
   "metadata": {
    "colab_type": "text",
    "id": "O7BU2qxEg0Ki"
   },
   "source": [
    "### Scaling\n",
    "- Scale the data (features only)\n",
    "- Use StandarScaler"
   ]
  },
  {
   "cell_type": "code",
   "execution_count": 255,
   "metadata": {
    "colab": {},
    "colab_type": "code",
    "id": "AcO8SlhPhBkR"
   },
   "outputs": [],
   "source": [
    "from sklearn.preprocessing import StandardScaler\n",
    "\n",
    "# Define the scaler \n",
    "scaler = StandardScaler().fit(X_train)\n",
    "\n",
    "# Scale the train set\n",
    "X_train = scaler.transform(X_train)\n",
    "\n",
    "# Scale the test set\n",
    "X_test = scaler.transform(X_test)"
   ]
  },
  {
   "cell_type": "markdown",
   "metadata": {
    "colab_type": "text",
    "id": "3TWpN0nVTpUx"
   },
   "source": [
    "## Question 6"
   ]
  },
  {
   "cell_type": "markdown",
   "metadata": {
    "colab_type": "text",
    "id": "_sj0LYNkhR-L"
   },
   "source": [
    "### Convert data to NumPy array\n",
    "- Convert features and labels to numpy array"
   ]
  },
  {
   "cell_type": "code",
   "execution_count": 256,
   "metadata": {
    "colab": {},
    "colab_type": "code",
    "id": "X6mIfuTxhbTT"
   },
   "outputs": [],
   "source": [
    "import numpy as np"
   ]
  },
  {
   "cell_type": "code",
   "execution_count": 257,
   "metadata": {},
   "outputs": [
    {
     "data": {
      "text/plain": [
       "array([[62.98    ],\n",
       "       [10.4     ],\n",
       "       [73.060003],\n",
       "       ...,\n",
       "       [51.779999],\n",
       "       [47.900002],\n",
       "       [73.989998]])"
      ]
     },
     "execution_count": 257,
     "metadata": {},
     "output_type": "execute_result"
    }
   ],
   "source": [
    "y_train=np.array(y_train)\n",
    "y_train"
   ]
  },
  {
   "cell_type": "code",
   "execution_count": 258,
   "metadata": {},
   "outputs": [
    {
     "data": {
      "text/plain": [
       "array([[56.990002],\n",
       "       [12.42    ],\n",
       "       [10.92    ],\n",
       "       ...,\n",
       "       [51.59    ],\n",
       "       [69.260002],\n",
       "       [73.160004]])"
      ]
     },
     "execution_count": 258,
     "metadata": {},
     "output_type": "execute_result"
    }
   ],
   "source": [
    "y_test = np.array(y_test)\n",
    "y_test"
   ]
  },
  {
   "cell_type": "code",
   "execution_count": 259,
   "metadata": {},
   "outputs": [
    {
     "data": {
      "text/plain": [
       "(595884, 3)"
      ]
     },
     "execution_count": 259,
     "metadata": {},
     "output_type": "execute_result"
    }
   ],
   "source": [
    "X_train.shape"
   ]
  },
  {
   "cell_type": "code",
   "execution_count": 260,
   "metadata": {},
   "outputs": [
    {
     "data": {
      "text/plain": [
       "(255380, 3)"
      ]
     },
     "execution_count": 260,
     "metadata": {},
     "output_type": "execute_result"
    }
   ],
   "source": [
    "X_test.shape"
   ]
  },
  {
   "cell_type": "code",
   "execution_count": 261,
   "metadata": {},
   "outputs": [
    {
     "data": {
      "text/plain": [
       "(595884, 1)"
      ]
     },
     "execution_count": 261,
     "metadata": {},
     "output_type": "execute_result"
    }
   ],
   "source": [
    "y_train.shape"
   ]
  },
  {
   "cell_type": "code",
   "execution_count": 262,
   "metadata": {},
   "outputs": [
    {
     "data": {
      "text/plain": [
       "(255380, 1)"
      ]
     },
     "execution_count": 262,
     "metadata": {},
     "output_type": "execute_result"
    }
   ],
   "source": [
    "y_test.shape"
   ]
  },
  {
   "cell_type": "code",
   "execution_count": 263,
   "metadata": {},
   "outputs": [
    {
     "name": "stdout",
     "output_type": "stream",
     "text": [
      "X_train [[[-0.09066067]\n",
      "  [-0.08749153]\n",
      "  [-0.09026979]]\n",
      "\n",
      " [[-0.72185845]\n",
      "  [-0.72071592]\n",
      "  [-0.72065945]]\n",
      "\n",
      " [[ 0.03814548]\n",
      "  [ 0.03322552]\n",
      "  [ 0.03312362]]\n",
      "\n",
      " ...\n",
      "\n",
      " [[-0.2507178 ]\n",
      "  [-0.24636758]\n",
      "  [-0.23132448]]\n",
      "\n",
      " [[-0.28256286]\n",
      "  [-0.27672687]\n",
      "  [-0.2747712 ]]\n",
      "\n",
      " [[ 0.04788915]\n",
      "  [ 0.04282527]\n",
      "  [ 0.03971722]]]\n",
      "X_test [[[-0.1687286 ]\n",
      "  [-0.16248968]\n",
      "  [-0.16892133]]\n",
      "\n",
      " [[-0.69916289]\n",
      "  [-0.69911645]\n",
      "  [-0.69605141]]\n",
      "\n",
      " [[-0.71223363]\n",
      "  [-0.71207613]\n",
      "  [-0.71218204]]\n",
      "\n",
      " ...\n",
      "\n",
      " [[-0.2346764 ]\n",
      "  [-0.23616786]\n",
      "  [-0.23473901]]\n",
      "\n",
      " [[-0.01128568]\n",
      "  [-0.01105338]\n",
      "  [-0.00902798]]\n",
      "\n",
      " [[ 0.03125365]\n",
      "  [ 0.03322547]\n",
      "  [ 0.02264461]]]\n"
     ]
    }
   ],
   "source": [
    "X_train = X_train.reshape(X_train.shape[0],X_train.shape[1],1)\n",
    "print(\"X_train\",X_train)\n",
    "X_test = X_test.reshape(X_test.shape[0],X_test.shape[1],1)\n",
    "print(\"X_test\",X_test)"
   ]
  },
  {
   "cell_type": "markdown",
   "metadata": {
    "colab_type": "text",
    "id": "wmXUGc2oTspa"
   },
   "source": [
    "## Question 7"
   ]
  },
  {
   "cell_type": "markdown",
   "metadata": {
    "colab_type": "text",
    "id": "cl2M9whFh6mh"
   },
   "source": [
    "### Define Model\n",
    "- Initialize a Sequential model\n",
    "- Add a Flatten layer\n",
    "- Add a Dense layer with one neuron as output\n",
    "  - add 'linear' as activation function\n"
   ]
  },
  {
   "cell_type": "code",
   "execution_count": 264,
   "metadata": {
    "colab": {},
    "colab_type": "code",
    "id": "TkiBpORmiegL"
   },
   "outputs": [],
   "source": [
    "# Using Tensorflow Keras instead of the original Keras\n",
    "\n",
    "\n",
    "\n",
    "from tensorflow.keras import Sequential\n",
    "from tensorflow.keras.layers import Dense\n",
    "from tensorflow.keras.layers import Flatten\n",
    "\n",
    "# define the model architecture\n",
    "\n",
    "# Initialize the constructor\n",
    "model = Sequential()\n",
    "\n",
    "# Add an input layer \n",
    "#model.add(Dense(12, input_shape=(4,)))\n",
    "\n",
    "# Add one hidden layer \n",
    "model.add(Flatten())\n",
    "\n",
    "# Add an output layer \n",
    "model.add(Dense(1, activation='linear'))"
   ]
  },
  {
   "cell_type": "markdown",
   "metadata": {
    "colab_type": "text",
    "id": "8a0wr94aTyjg"
   },
   "source": [
    "## Question 8"
   ]
  },
  {
   "cell_type": "markdown",
   "metadata": {
    "colab_type": "text",
    "id": "BNZPb5lKioX0"
   },
   "source": [
    "### Compile the model\n",
    "- Compile the model\n",
    "- Use \"sgd\" optimizer\n",
    "- for calculating loss, use mean squared error"
   ]
  },
  {
   "cell_type": "code",
   "execution_count": 265,
   "metadata": {
    "colab": {},
    "colab_type": "code",
    "id": "ZEQUP3VaiuT2"
   },
   "outputs": [],
   "source": [
    "model.compile(loss='mean_squared_error',\n",
    "              optimizer='sgd')"
   ]
  },
  {
   "cell_type": "markdown",
   "metadata": {
    "colab_type": "text",
    "id": "ZbBpnOtfT0wd"
   },
   "source": [
    "## Question 9"
   ]
  },
  {
   "cell_type": "markdown",
   "metadata": {
    "colab_type": "text",
    "id": "n9o45OHdjDhA"
   },
   "source": [
    "### Fit the model\n",
    "- epochs: 50\n",
    "- batch size: 128\n",
    "- specify validation data"
   ]
  },
  {
   "cell_type": "code",
   "execution_count": 266,
   "metadata": {
    "colab": {},
    "colab_type": "code",
    "id": "-Y6tA30XjOH2"
   },
   "outputs": [
    {
     "name": "stdout",
     "output_type": "stream",
     "text": [
      "Train on 595884 samples, validate on 255380 samples\n",
      "Epoch 1/50\n",
      "595884/595884 [==============================] - 8s 14us/sample - loss: 40.7937 - val_loss: 0.9533\n",
      "Epoch 2/50\n",
      "595884/595884 [==============================] - 7s 12us/sample - loss: 0.9811 - val_loss: 0.9719\n",
      "Epoch 3/50\n",
      "595884/595884 [==============================] - 7s 12us/sample - loss: 0.9741 - val_loss: 0.9735\n",
      "Epoch 4/50\n",
      "595884/595884 [==============================] - 7s 11us/sample - loss: 0.9666 - val_loss: 0.9393\n",
      "Epoch 5/50\n",
      "595884/595884 [==============================] - 8s 13us/sample - loss: 0.9624 - val_loss: 0.9257\n",
      "Epoch 6/50\n",
      "595884/595884 [==============================] - 7s 11us/sample - loss: 0.9541 - val_loss: 0.9161\n",
      "Epoch 7/50\n",
      "595884/595884 [==============================] - 7s 12us/sample - loss: 0.9493 - val_loss: 0.9238\n",
      "Epoch 8/50\n",
      "595884/595884 [==============================] - 7s 11us/sample - loss: 0.9416 - val_loss: 0.9048\n",
      "Epoch 9/50\n",
      "595884/595884 [==============================] - 7s 11us/sample - loss: 0.9331 - val_loss: 0.9308\n",
      "Epoch 10/50\n",
      "595884/595884 [==============================] - 7s 12us/sample - loss: 0.9297 - val_loss: 0.8908\n",
      "Epoch 11/50\n",
      "595884/595884 [==============================] - 7s 12us/sample - loss: 0.9230 - val_loss: 0.8867\n",
      "Epoch 12/50\n",
      "595884/595884 [==============================] - 8s 13us/sample - loss: 0.9171 - val_loss: 0.8789\n",
      "Epoch 13/50\n",
      "595884/595884 [==============================] - 7s 11us/sample - loss: 0.9082 - val_loss: 0.8733\n",
      "Epoch 14/50\n",
      "595884/595884 [==============================] - 7s 12us/sample - loss: 0.9040 - val_loss: 0.8793\n",
      "Epoch 15/50\n",
      "595884/595884 [==============================] - 7s 11us/sample - loss: 0.8981 - val_loss: 0.8641\n",
      "Epoch 16/50\n",
      "595884/595884 [==============================] - 8s 14us/sample - loss: 0.8931 - val_loss: 0.8645\n",
      "Epoch 17/50\n",
      "595884/595884 [==============================] - 6s 11us/sample - loss: 0.8873 - val_loss: 0.8528\n",
      "Epoch 18/50\n",
      "595884/595884 [==============================] - 7s 11us/sample - loss: 0.8795 - val_loss: 0.8453\n",
      "Epoch 19/50\n",
      "595884/595884 [==============================] - 7s 11us/sample - loss: 0.8743 - val_loss: 0.8483\n",
      "Epoch 20/50\n",
      "595884/595884 [==============================] - 6s 11us/sample - loss: 0.8694 - val_loss: 0.8363\n",
      "Epoch 21/50\n",
      "595884/595884 [==============================] - 7s 12us/sample - loss: 0.8645 - val_loss: 0.8442\n",
      "Epoch 22/50\n",
      "595884/595884 [==============================] - 6s 11us/sample - loss: 0.8575 - val_loss: 0.8329\n",
      "Epoch 23/50\n",
      "595884/595884 [==============================] - 7s 12us/sample - loss: 0.8521 - val_loss: 0.8233\n",
      "Epoch 24/50\n",
      "595884/595884 [==============================] - 7s 11us/sample - loss: 0.8472 - val_loss: 0.8201\n",
      "Epoch 25/50\n",
      "595884/595884 [==============================] - 8s 13us/sample - loss: 0.8415 - val_loss: 0.8096\n",
      "Epoch 26/50\n",
      "595884/595884 [==============================] - 7s 11us/sample - loss: 0.8379 - val_loss: 0.8035\n",
      "Epoch 27/50\n",
      "595884/595884 [==============================] - 8s 13us/sample - loss: 0.8322 - val_loss: 0.7993\n",
      "Epoch 28/50\n",
      "595884/595884 [==============================] - 7s 12us/sample - loss: 0.8266 - val_loss: 0.7971\n",
      "Epoch 29/50\n",
      "595884/595884 [==============================] - 7s 11us/sample - loss: 0.8218 - val_loss: 0.7999\n",
      "Epoch 30/50\n",
      "595884/595884 [==============================] - 7s 12us/sample - loss: 0.8173 - val_loss: 0.7888\n",
      "Epoch 31/50\n",
      "595884/595884 [==============================] - 7s 11us/sample - loss: 0.8122 - val_loss: 0.7826\n",
      "Epoch 32/50\n",
      "595884/595884 [==============================] - 7s 12us/sample - loss: 0.8075 - val_loss: 0.7850\n",
      "Epoch 33/50\n",
      "595884/595884 [==============================] - 7s 11us/sample - loss: 0.8025 - val_loss: 0.7855\n",
      "Epoch 34/50\n",
      "595884/595884 [==============================] - 7s 11us/sample - loss: 0.7981 - val_loss: 0.7745\n",
      "Epoch 35/50\n",
      "595884/595884 [==============================] - 7s 12us/sample - loss: 0.7929 - val_loss: 0.7940\n",
      "Epoch 36/50\n",
      "595884/595884 [==============================] - 6s 11us/sample - loss: 0.7886 - val_loss: 0.7594\n",
      "Epoch 37/50\n",
      "595884/595884 [==============================] - 7s 12us/sample - loss: 0.7830 - val_loss: 0.7532\n",
      "Epoch 38/50\n",
      "595884/595884 [==============================] - 7s 11us/sample - loss: 0.7793 - val_loss: 0.7553\n",
      "Epoch 39/50\n",
      "595884/595884 [==============================] - 7s 12us/sample - loss: 0.7755 - val_loss: 0.8124\n",
      "Epoch 40/50\n",
      "595884/595884 [==============================] - 7s 11us/sample - loss: 0.7709 - val_loss: 0.7444\n",
      "Epoch 41/50\n",
      "595884/595884 [==============================] - 8s 13us/sample - loss: 0.7649 - val_loss: 0.7364\n",
      "Epoch 42/50\n",
      "595884/595884 [==============================] - 7s 12us/sample - loss: 0.7619 - val_loss: 0.7375\n",
      "Epoch 43/50\n",
      "595884/595884 [==============================] - 7s 11us/sample - loss: 0.7581 - val_loss: 0.7304\n",
      "Epoch 44/50\n",
      "595884/595884 [==============================] - 7s 12us/sample - loss: 0.7539 - val_loss: 0.7252\n",
      "Epoch 45/50\n",
      "595884/595884 [==============================] - 7s 11us/sample - loss: 0.7494 - val_loss: 0.7298\n",
      "Epoch 46/50\n",
      "595884/595884 [==============================] - 7s 12us/sample - loss: 0.7450 - val_loss: 0.7168\n",
      "Epoch 47/50\n",
      "595884/595884 [==============================] - 7s 12us/sample - loss: 0.7419 - val_loss: 0.7199\n",
      "Epoch 48/50\n",
      "595884/595884 [==============================] - 7s 11us/sample - loss: 0.7376 - val_loss: 0.7143\n",
      "Epoch 49/50\n",
      "595884/595884 [==============================] - 7s 12us/sample - loss: 0.7343 - val_loss: 0.7056\n",
      "Epoch 50/50\n",
      "595884/595884 [==============================] - 7s 12us/sample - loss: 0.7296 - val_loss: 0.7341\n"
     ]
    }
   ],
   "source": [
    "history = model.fit(X_train, y_train, validation_data = (X_test,y_test),epochs=50, batch_size=128)"
   ]
  },
  {
   "cell_type": "markdown",
   "metadata": {
    "colab_type": "text",
    "id": "AW4SEP8kT2ls"
   },
   "source": [
    "## Question 10"
   ]
  },
  {
   "cell_type": "markdown",
   "metadata": {
    "colab_type": "text",
    "id": "EJDoix_7JU61"
   },
   "source": [
    "### Evaluate the model\n",
    "- Evaluate the model on test data"
   ]
  },
  {
   "cell_type": "code",
   "execution_count": 267,
   "metadata": {
    "colab": {},
    "colab_type": "code",
    "id": "HdH8pYBIjHGL"
   },
   "outputs": [
    {
     "name": "stderr",
     "output_type": "stream",
     "text": [
      "IOPub data rate exceeded.\n",
      "The notebook server will temporarily stop sending output\n",
      "to the client in order to avoid crashing it.\n",
      "To change this limit, set the config variable\n",
      "`--NotebookApp.iopub_data_rate_limit`.\n",
      "\n",
      "Current values:\n",
      "NotebookApp.iopub_data_rate_limit=1000000.0 (bytes/sec)\n",
      "NotebookApp.rate_limit_window=3.0 (secs)\n",
      "\n"
     ]
    },
    {
     "data": {
      "text/plain": [
       "0.7341381271683308"
      ]
     },
     "execution_count": 267,
     "metadata": {},
     "output_type": "execute_result"
    }
   ],
   "source": [
    "model.evaluate(X_test, y_test)"
   ]
  },
  {
   "cell_type": "code",
   "execution_count": 268,
   "metadata": {},
   "outputs": [
    {
     "data": {
      "text/plain": [
       "array([[56.983585],\n",
       "       [12.3386  ],\n",
       "       [11.129799],\n",
       "       ...,\n",
       "       [51.156464],\n",
       "       [70.065094],\n",
       "       [73.29221 ]], dtype=float32)"
      ]
     },
     "execution_count": 268,
     "metadata": {},
     "output_type": "execute_result"
    }
   ],
   "source": [
    "y_pred=model.predict(X_test)\n",
    "y_pred"
   ]
  },
  {
   "cell_type": "markdown",
   "metadata": {
    "colab_type": "text",
    "id": "hUpDD74Xjh01"
   },
   "source": [
    "### Manual predictions\n",
    "- Test the predictions on manual inputs\n",
    "- We have scaled out training data, so we need to transform our custom inputs using the object of the scaler\n",
    "- Example of manual input: [123.430000,\t122.30999, 116.250000]"
   ]
  },
  {
   "cell_type": "code",
   "execution_count": 278,
   "metadata": {
    "colab": {},
    "colab_type": "code",
    "id": "fvuH-c31lLiJ"
   },
   "outputs": [
    {
     "data": {
      "text/plain": [
       "array([[119.648895]], dtype=float32)"
      ]
     },
     "execution_count": 278,
     "metadata": {},
     "output_type": "execute_result"
    }
   ],
   "source": [
    "input_data=[[123.430000, 122.30999, 116.250000]]\n",
    "scaled_input= scaler.transform(input_data)\n",
    "scaled_input\n",
    "#scaled_input = scaled_input.reshape(scaled_input.shape[0],1)\n",
    "model.predict(scaled_input)"
   ]
  },
  {
   "cell_type": "markdown",
   "metadata": {
    "colab_type": "text",
    "id": "4WH1Pr4KQlCh"
   },
   "source": [
    "# Build a DNN"
   ]
  },
  {
   "cell_type": "markdown",
   "metadata": {
    "colab_type": "text",
    "id": "74cQBsi5QlCw"
   },
   "source": [
    "### Collect Fashion mnist data from tf.keras.datasets "
   ]
  },
  {
   "cell_type": "code",
   "execution_count": 232,
   "metadata": {
    "colab": {},
    "colab_type": "code",
    "id": "wVWy0oDTr2Kj"
   },
   "outputs": [],
   "source": [
    "%matplotlib inline\n",
    "\n",
    "\n",
    "import tensorflow as tf"
   ]
  },
  {
   "cell_type": "markdown",
   "metadata": {
    "colab_type": "text",
    "id": "no7aWYZyQlC1"
   },
   "source": [
    "### Change train and test labels into one-hot vectors"
   ]
  },
  {
   "cell_type": "code",
   "execution_count": 292,
   "metadata": {
    "colab": {},
    "colab_type": "code",
    "id": "UX6otc4wQlC2"
   },
   "outputs": [],
   "source": [
    "(x_train, y_train), (x_test, y_test) = tf.keras.datasets.fashion_mnist.load_data()\n",
    "\n",
    "number = 10 \n"
   ]
  },
  {
   "cell_type": "code",
   "execution_count": 280,
   "metadata": {},
   "outputs": [
    {
     "data": {
      "text/plain": [
       "array([0, 1, 2, 3, 4, 5, 6, 7, 8, 9], dtype=uint8)"
      ]
     },
     "execution_count": 280,
     "metadata": {},
     "output_type": "execute_result"
    }
   ],
   "source": [
    "import numpy as np\n",
    "np.unique(y_train)"
   ]
  },
  {
   "cell_type": "code",
   "execution_count": 281,
   "metadata": {},
   "outputs": [
    {
     "name": "stdout",
     "output_type": "stream",
     "text": [
      "Train size: 60000\n",
      "Test size: 10000\n"
     ]
    }
   ],
   "source": [
    "y_train = tf.keras.utils.to_categorical(y_train, number)   # Converting the target into categorical which is stored as numeric\n",
    "y_test = tf.keras.utils.to_categorical(y_test, number)     # Keras converst these into 1-hot coded vectors as these are lables\n",
    "\n",
    "\n",
    "print ('Train size:', x_train.shape[0])\n",
    "print ('Test size:', x_test.shape[0])"
   ]
  },
  {
   "cell_type": "code",
   "execution_count": 282,
   "metadata": {},
   "outputs": [
    {
     "data": {
      "text/plain": [
       "array([[0., 0., 0., ..., 0., 0., 1.],\n",
       "       [1., 0., 0., ..., 0., 0., 0.],\n",
       "       [1., 0., 0., ..., 0., 0., 0.],\n",
       "       ...,\n",
       "       [0., 0., 0., ..., 0., 0., 0.],\n",
       "       [1., 0., 0., ..., 0., 0., 0.],\n",
       "       [0., 0., 0., ..., 0., 0., 0.]], dtype=float32)"
      ]
     },
     "execution_count": 282,
     "metadata": {},
     "output_type": "execute_result"
    }
   ],
   "source": [
    "y_train                 #One hot encoded vector"
   ]
  },
  {
   "cell_type": "code",
   "execution_count": 283,
   "metadata": {},
   "outputs": [
    {
     "data": {
      "text/plain": [
       "array([[0., 0., 0., ..., 0., 0., 1.],\n",
       "       [0., 0., 1., ..., 0., 0., 0.],\n",
       "       [0., 1., 0., ..., 0., 0., 0.],\n",
       "       ...,\n",
       "       [0., 0., 0., ..., 0., 1., 0.],\n",
       "       [0., 1., 0., ..., 0., 0., 0.],\n",
       "       [0., 0., 0., ..., 0., 0., 0.]], dtype=float32)"
      ]
     },
     "execution_count": 283,
     "metadata": {},
     "output_type": "execute_result"
    }
   ],
   "source": [
    "y_test"
   ]
  },
  {
   "cell_type": "markdown",
   "metadata": {
    "colab_type": "text",
    "id": "QjNrRTdoQlC5"
   },
   "source": [
    "### Build the Graph"
   ]
  },
  {
   "cell_type": "markdown",
   "metadata": {
    "colab_type": "text",
    "id": "CDJ9DHVNQlC7"
   },
   "source": [
    "### Initialize model, reshape & normalize data"
   ]
  },
  {
   "cell_type": "code",
   "execution_count": 284,
   "metadata": {
    "colab": {
     "base_uri": "https://localhost:8080/",
     "height": 88
    },
    "colab_type": "code",
    "id": "pCDQs_g1QlC8",
    "outputId": "e854b4d2-903a-4515-c21b-bd6a6e4fe2f8",
    "scrolled": true
   },
   "outputs": [],
   "source": [
    "model = Sequential()\n",
    "model.add(tf.keras.layers.Reshape((784,), input_shape = (28,28,)))\n",
    "model.add(tf.keras.layers.BatchNormalization())"
   ]
  },
  {
   "cell_type": "markdown",
   "metadata": {
    "colab_type": "text",
    "id": "kBGwTTilQlDD"
   },
   "source": [
    "### Add two fully connected layers with 200 and 100 neurons respectively with `relu` activations. Add a dropout layer with `p=0.25`"
   ]
  },
  {
   "cell_type": "code",
   "execution_count": 285,
   "metadata": {
    "colab": {
     "base_uri": "https://localhost:8080/",
     "height": 88
    },
    "colab_type": "code",
    "id": "IXbfpfOzQlDF",
    "outputId": "f46a2e3a-2634-4e9e-88bd-57bb8de1ff0c"
   },
   "outputs": [],
   "source": [
    "from tensorflow.keras.layers import Dropout\n",
    "model.add(Dense(200, activation='relu'))   #First hidden layer of 784  neurons, each neuron takes input \n",
    "                                                               # vector of size 784\n",
    "\n",
    "\n",
    "\n",
    "model.add(Dense(100, activation='relu'))  \n",
    "\n",
    "model.add(Dropout(0.25))\n",
    "\n"
   ]
  },
  {
   "cell_type": "markdown",
   "metadata": {
    "colab_type": "text",
    "id": "5I8f5otcQlDJ"
   },
   "source": [
    "### Add the output layer with a fully connected layer with 10 neurons with `softmax` activation. Use `categorical_crossentropy` loss and `adam` optimizer and train the network. And, report the final validation."
   ]
  },
  {
   "cell_type": "code",
   "execution_count": 286,
   "metadata": {
    "colab": {},
    "colab_type": "code",
    "id": "JZkvKymSd0Sr"
   },
   "outputs": [],
   "source": [
    "model.add(Dense(10, activation='softmax'))\n"
   ]
  },
  {
   "cell_type": "code",
   "execution_count": 287,
   "metadata": {},
   "outputs": [],
   "source": [
    "model.compile(loss=\"categorical_crossentropy\", optimizer = \"adam\", metrics=[\"accuracy\"])"
   ]
  },
  {
   "cell_type": "code",
   "execution_count": 288,
   "metadata": {
    "colab": {},
    "colab_type": "code",
    "id": "WSiMhJPpk3GO"
   },
   "outputs": [
    {
     "name": "stdout",
     "output_type": "stream",
     "text": [
      "Train on 60000 samples\n",
      "Epoch 1/10\n",
      "60000/60000 [==============================] - 10s 164us/sample - loss: 0.5096 - accuracy: 0.8177\n",
      "Epoch 2/10\n",
      "60000/60000 [==============================] - 7s 111us/sample - loss: 0.3935 - accuracy: 0.8572\n",
      "Epoch 3/10\n",
      "60000/60000 [==============================] - 7s 119us/sample - loss: 0.3618 - accuracy: 0.8683\n",
      "Epoch 4/10\n",
      "60000/60000 [==============================] - 7s 112us/sample - loss: 0.3352 - accuracy: 0.8777\n",
      "Epoch 5/10\n",
      "60000/60000 [==============================] - 7s 119us/sample - loss: 0.3183 - accuracy: 0.8829\n",
      "Epoch 6/10\n",
      "60000/60000 [==============================] - 8s 126us/sample - loss: 0.3014 - accuracy: 0.8889\n",
      "Epoch 7/10\n",
      "60000/60000 [==============================] - 9s 147us/sample - loss: 0.2866 - accuracy: 0.8932\n",
      "Epoch 8/10\n",
      "60000/60000 [==============================] - 8s 127us/sample - loss: 0.2727 - accuracy: 0.8969\n",
      "Epoch 9/10\n",
      "60000/60000 [==============================] - 8s 133us/sample - loss: 0.2661 - accuracy: 0.9007\n",
      "Epoch 10/10\n",
      "60000/60000 [==============================] - 8s 128us/sample - loss: 0.2547 - accuracy: 0.9045\n"
     ]
    },
    {
     "data": {
      "text/plain": [
       "<tensorflow.python.keras.callbacks.History at 0x15c00cd6780>"
      ]
     },
     "execution_count": 288,
     "metadata": {},
     "output_type": "execute_result"
    }
   ],
   "source": [
    "#model.fit(x_train,y_train, epochs = 10, batch_size= 32)\n",
    "model.fit(x_train, y_train,\n",
    "                    batch_size=32,\n",
    "                    epochs=10)"
   ]
  },
  {
   "cell_type": "code",
   "execution_count": 289,
   "metadata": {},
   "outputs": [
    {
     "name": "stdout",
     "output_type": "stream",
     "text": [
      "\r",
      "10000/1 [================================================================================================================================================================================================================================================================================================================================================================================================================================================================================================================================================================================================================================================================================================================================================================================================================================================================================================================================================================================================================================================================================================================================================================================================================================================================================================================================================================================================================================================================================================================================================================================================================================================================================================================================================================================================================================================================================================================================================================================================================================================================================================================================================================================================================================================================================================================================================================================================================================================================================================================================================================================================================================================================================================================================================================================================================================================================================================================================================================================================================================================================================================================================================================================================================================================================================================================================================================================================================================================================================================================================================================================================================================================================================================================================================================================================================================================================================================================================================================================================================================================================================================================================================================================================================================================================================================================================================================================================================================================================================================================================================================================================================================================================================================================================================================================================================================================================================================================================================================================================================================================================================================================================================================================================================================================================================================================================================================================================================================================================================================================================================================================================================================================================================================================================================================================================================================================================================================================================================================================================================================================================================================================================================================================================================================================================================================================================================================================================================================================================================================================================================================================================================================================================================================================================================================================================================================================================================================================================================================================================================================================================================================================================================================================================================================================================================================================================================================================================================================================================================================================================================================================================================================================================================================================================================================================================================================================================================================================================================================================================================================================================================================================================================================================================================================================================================================================================================================================================================================================================================================================================================================================================================================================================================================================================================================================================================================================================================================================================================================================================================================================================================================================================================================================================================================================================================================================================================================================================================================================================================================================================================================================================================================================================================================================================================================================================================================================================================================================================================================================================================================================================================================================================================================================================================================================================================================================================================================================================================================================================================================================================================================================================================================================================================================================================================================================================================================================================================================================================================================================================================================================================================================================================================================================================================================================================================================================================================================================================================================================================================================================================================================================================================================================================================================================================================================================================================================================================================================================================================================================================================================================================================================================================================================================================================================================================================================================================================================================================================================================================================================================================================================================================================================================================================================================================================================================================================================================================================================================================================================================================================================================================================================================================================================================================================================================================================================================================================================================================================================================================================================================================================================================================================================================================================================================================================================================================================================================================================================================================================================================================================================================================================================================================================================================================================================================================================================================================================================================================================================================================================================================================================================================================================================================================================================================================================================================================================================================================================================================================================================================================================================================================================================================================================================================================================================================================================================================================================================================================================================================================================================================================================================================================================================================================================================================================================================================================================================================================================================================================================================================================================================================================================================================================================================================================================================================================================================================================================================================================================================================================================================================================================================================================================================================================================================================================================================================================================================================================================================================================================================================================================================================================================================================================================================================================================================================================================================================================================================================================================================================================================================================================================================================================================================================================================================================================================================================================================================================================================================================================================================================================================================================================================================================================================================================================================================================================================================================================================================================================================================================================================================================================================================================================================================================================================================================================================================================================================================================================================================================================================================================================================================================================================================================================================================================================================================================================================================================================================================================================================================================================================================================================================================================================================================================================================================================================================================================================================================================================================================================================================================================================================================================================================================================================================================================================================================================================================================================================================================================================================================================================================================================================================================================================================================================================================================================================================================================================================================================================================================================================================================================================================================================================================================================================================================================================================================================================================================================================================================================================================================================================================================================================================================================================================================================================================================================================================================================================================================================================================================================================================================================================================================================================================================================================================================================================================================================================================================================================================================================================================================================================================================================================================================================================================================================================================================================================================================================================================================================================================================================================================================================================================================================================================================================================================================================================================================================================================================================================================================================================================================================================================================================================================================================================================================================================================================================================================================================================================================================================================================================================================================================================================================================================================================================================================================================================================================================================================================================================================================================================================================================================================================================================================================================================================================================================================================================================================================================================================================================================================================================================================================================================================================================================================================================================================================================================================================================================================================================================================================================================================================================================================================================================================================================================================================================================================================================================================================================================================================================================================================================================================================================================================================================================================================================================================================================================================================================================================================================================================================================================================================================================================================================================================================================================================================================================================================================================================================================================================================================================================================================================================================================================================================================================================================================================================================================================================================================================================================================================================================================================================================================================================================================================================================================================================================================================================================================================================================================================================================================================================================================================================================================================================================================================================================================================================================================================================================================================================================================================================================================================================================================================================================================================================================================================================================================================================================================================================================================================================================================================================================================================================================================================================================================================================================================================================================================================================================================================================================================================================================================================================================================================================================================================================================================================================================================================================================================================================================================================================================================================================================================================================================================================================================================================================================================================================================================================================================================================================================================================================================================================================================================================================================================================================================================================================================================================================================================================================================================================================================================================================================================================================================================================================================================================================================================================================================================================================================================================================================================================================================================================================================================================================================================================================================================================================================================================================================================================================================================================================================================================================================================================================================================================================================================================================================================================================================================================================================================================================================================================================================================================================================================================================================================================================================================================================================================================================================================================================================================================================================================================================================================================================================================================================================================================================================================================================================================================================================================================================================================================================================================================================================================================================================================================================================================================================================================================================================================================================================================================================================================================================================================================================================================================================================================================================================================================================================================================================================================================================================================================================================================================================================================================================================================================================================================================================================================================================================================================================================================================================================================================================================================================================================================================================================================================================================================================================================================================================================================================================================================================================================================================================================================================================================================================================================================================================================================================================================================================================================================================================================================================================================================================================================================================================================================================================================================================================================================================================================================================================================================================================================================================================================================================================================================================================================================================================================================================================================================================================================================================================================================================================================================================================================================================================================================================================================================================================================================================================================================================================================================================================================================================================================================================================================================================================================================================================================================================================================================================================================================================================================================================================================================================================================================================================================================================================================================================================================================================================================================================================================================================================================================================================================================================================================================================================================================================================================================================================================================================================================================================================================================================================================================================================================================================================================================================================================================================================================================================================================================================================================================================================================================================================================================================================================================================================================================================================================================================================================================================================================================================================================================================================================================================================================================================================================================================================================================================================================================================================================================================================================================================================================================================================================================================================================================================================================================================================================================================================================================================================================================================================================================================================================================================================================================================================================================================================================================================================================================================================================================================================================================================================================================================================================================================================================================================================================================================================================================================================================================================================================================================================================================================================================================================================================================================================================================================================================================================================================================================================================================================================================================================================================================================================================================================================================================================================================================================================================================================================================================================================================================================================================================================================================================================================================================================================================================================================================================================================================================================================================================================================================================================================================================================================================================================================================================================================================================================================================================================================================================================================================================================================================================================================================================================================================================================================================================================================================================================================================================================================================================================================================================================================================================================================================================================================================================================================================================================================================================================================================================================================================================================================================================================================================================================================================================================================================================================================================================================================================================================================================================================================================================================================================================================================================================================================================================================================================================================================================================================================================================================================================================================================================================================================================================================================================================================================================================================================================================================================================================================================================================================================================================================================================================================================================================================================================================================================================================================================================================================================================================================================================================================================================================================================================================================================================================================================================================================================================================================================================================================================================================================================================================================================================================================================================================================================================================================================================================================================================================================================================================================================================================================================================================================================================================================================================================================================================================================================================================================================================================================================================================================================================================================================================================================================================================================================================================================================================================================================================================================================================================================================================================================================================================================================================================================================================================================================================================================================================================================================================================================================================================================================================================================================================================================================================================================================================================================================================================================================================================================================================================================================================================================================================================================================================================================================================================================================================================================================================================================================================================================================================================================================================================================================================================================================================================================================================================================================================================================================================================================================================================================================================================================================================================================================================================================================================================================================================================================================================================================================================================================================================================================================================================================================================================================================================================================================================================================================================================================================================================================================================================================================================================================================================================================================================================================================================================================================================================================================================================================================================================================================================================================================================================================================================================================================================================================================================================================================================================================================================================================================================================================================================================================================================================================================================================================================================================================================================================================================================================================================================================================================================================================================================================================================================================================================================================================================================================================================================================================================================================================================================================================================================================================================================================================================================================================================================================================================================================================================================================================================================================================================================================================================================================================================================================================================================================================================================================================================================================================================================================================================================================================================================================================================================================================================================================================================================================================================================================================================================================================================================================================================================================================================================================================================================================================================================================================================================================================================================================================================================================================================================================================================================================================================================================================================================================================================================================================================================================================================================================================================================================================================================================================================================================================================================================================================================================================================================================================================================================================================================================================================================================================================================================================================================================================================================================================================================================================================================================================================================================================================================================================================================================================================================================================================================================================================================================================================================================================================================================================================================================================================================================================================================================================================================================================================================================================================================================================================================================================================================================================================================================================================================================================================================================================================================================================================================================================================================================================================================================================================================================================================================================================================================================================================================================================================================================================================================================================================================================================================================================================================================================================================================================================================================================================================================================================================================================================================================================================================================================================================================================================================================================================================================================================================================================================================================================================================================================================================================================================================================================================================================================================================================================================================================================================================================================================================================================================================================================================================================================================================================================================================================================================================================================================================================================================================================================================================================================================================================================================================================================================================================================================================================================================================================================================================================================================================================================================================================================================================================================================================================================================================================================================================================================================================================================================================================================================================================================================================================================================================================================================================================================================================================================================================================================================================================================================================================================================================================================================================================================================================================================================================================================================================================================================================================================================================================================================================================================================================================================================================================================================================================================================================================================================================================================================================================================================================================================================================================================================================================================================================================================================================================================================================================================================================================================================================================================================================================================================================================================================================================================================================================================================================================================================================================================================================================================================================================================================================================================================================================================================================================================================================================================================================================================================================================================================================================================================================================================================================================================================================================================================================================================================================================================================================================================================================================================================================================================================================================================================================================================================================================================================================================================================================================================================================================================================================================================================================================================================================================================================================================================================================================================================================================================================================================================================================================================================================================================================================================================================================================================================================================================================================================================================================================================================================================================================================================================================================================================================================================================================================================================================================================================================================================================================================================================================================================================================================================================================================================================================================================================================================================================================================================================================================================================================================================================================================================================================================================================================================================================================================================================================================================================================================================================================================================================================================================================================================================================================================================================================================================================================================================================================================================================================================================================================================================================================================================================================================================================================================================================================================================================================================================================================================================================================================================================================================================================================================================================================================================================================================================================================================================================================================================================================================================================================================================================================================================================================================================================================================================================================================================================================================================================================================================================================================================================================================================================================================================================================================================================================================================================================================================================================================================================================================================================================================================================================================================================================================================================================================================================================================================================================================================================================================================================================================================================================================================================================================================================================================================================================================================================================================================================================================================================================================================================================================================================================================================================================================================================================================================================================================================================================================================================================================================================================================================================================================================================================================================================================================================================================================================================================================================================================================================================================================================================================================================================================================================================================================================================================================================================================================================================================================================================================================================================================================================================================================================================================================================================================================================================================================================================================================================================================================================================================================================================================================================================================================================================================================================================================================================================================================================================================================================================================================================================================================================================================================================================================================================================================================================================================================================================================================================================================================================================================================================================================================================================================================================================================================================================================================================================================================================================================================================================================================================================================================================================================================================================================================================================================================================================================================================================================================================================================================================================================================================================================================================================================================================================================================================================================================================================================================================================================================================================================================================================================================================================================================================================================================================================================================================================================================================================================================================================================================================================================================================================================================================================================================================================================================================================================================================================================================================================================================================================================================================================================================================================================================================================================================================================================================================================================================================================================================================================================================================================================================================================================================================================================================================================================================================================================================================================================================================================================================================================================================================================================================================================================================================================================================================================================================================================================================================================================================================================================================================================================================================================================================================================================================================================================================================================================================================================================================================================================================================================================================================================================================================================================================================================================================================================================================================================================================================================================================================================================================================================================================================================================================================================================================================================================================================================================================================================================================================================================================================================================================================================================================================================================================================================================================================================================================================================================================================================================================================================================================================================================================================================================================================================================================================================================================================================================================================================================================================================================================================================================================================================================================================================================================================================================================================================================================================================================================================================================================================================================================================================================================================================================================================================================================================================================================================================================================================================================================================================================================================================================================================================================================================================================================================================================================================================================================================================================================================================================================================================================================================================================================================================================================================================================================================================================================================================================================================================================================================================================================================================================================================================================================================================================================================================================================================================================================================================================================================================================================================================================================================================================================================================================================================================================================================================================================================================================================================================================================================================================================================================================================================================================================================================================================================================================================================================================================================================================================================================================================================================================================================================================================================================================================================================================================================================================================================================================================================================================================================================================================================================================================================================================================================================================================================================================================================================================================================================================================================================================================================================================================================================================================================================================================================================================================================================================================================================================================================================================================================================================================================================================================================================================================================================================================================================================================================================================================================================================================================================================================================================================================================================================================================================================================================================================================================================================================================================================================================================================================================================================================================================================================================================================================================================================================================================================================================================================================================================================================================================================================================================================================================================================================================================================================================================================================================================================================================================================================================================================================================================================================================================================================================================================================================================================================================================================================================================================================================================================================================================================================================================================================================================================================================================================================================================================================================================================================================================================================================================================================================================================================================================================================================================================================================================================================================================================================================================================================================================================================================================================================================================================================================================================================================================================================================================================================================================================================================================================================================================================================================================================================================================================================================================================================================================================================================================================================================================================================================================================================================================================================================================================================================================================================================================================================================================================================================================================================================================================================================================================================================================================================================================================================================================================================================================================================================================================================================================================================================================================================================================================================================================================================================================================================================================================================================================================================================================================================================================================================================================================================================================================================================================================================================================================================================================================================================================================================================================================================================================================================================================================================================================================================================================================================================================================================================================================================================================================================================================================================================================================================================================================================================================================================================================================================================================================================================================================================================================================================================================================================================================================================================================================================================================================================================================================================================================================================================================================================================================================================================================================================================================================================================================================================================================================================================================================================================================================================================================================================================================================================================================================================================================================================================================================================================================================================================================================================================================================================================================================================================================================================================================================================================================================================================================================================================================================================================================================================================================================================================================================================================================================================================================================================================================================================================================================================================================================================================================================================================================================================================================================================================================================================================================================================================================================================================================================================================================================================================================================================================================================================================================================================================================================================================================================================================================================================================================================================================================================================================================================================================================================================================================================================================================================================================================================================================================================================================================================================================================================================================================================================================================================================================================================================================================================================================================================================================================================================================================================================================================================================================================================================================================================================================================================================================================================================================================================================================================================================================================================================================================================================================================================================================================================================================================================================================================================================================================================================================================================================================================================================================================================================================================================================================================================================================================================================================================================================================================================================================================================================================================================================================================================================================================================================================================================================================================================================================================================================================================================================================================================================================================================================================================================================================================================================================================================================================================================================================================================================================================================================================================================================================================================================================================================================================================================================================================================================================================================================================================================================================================================================================================================================================================================================================================================================================================================================================================================================================================================================================================================================================================================================================================================================================================================================================================================================================================================================================================================================================================================================================================================================================================================================================================================================================================================================================================================================================================================================================================================================================================================================================================================================================================================================================================================================================================================================================================================================================================================================================================================================================================================================================================================================================================================================================================================================================================================================================================================================================================================================================================================================================================================================================================================================================================================================================================================================================================================================================================================================================================================================================================================================================================================================================================================================================================================================================================================================================================================================================================================================================================================================================================================================================================================================================================================================================================================================================================================================================================================================================================================================================================================================================================================================================================================================================================================================================================================================================================================================================================================================================================================================================================================================================================================================================================================================================================================================================================================================================================================================================================================================================================================================================================================================================================================================================================================================================================================================================================================================================================================================================================================================================================================================================================================================================================================================================================================================================================================================================================================================================================================================================================================================================================================================================================================================================================================================================================================================================================================================================================================================================================================================================================================================================================================================================================================================================================================================================================================================================================================================================================================================================================================================================================================================================================================================================================================================================================================================================================================================================================================================================================================================================================================================================================================================================================================================================================================================================================================================================================================================================================================================================================================================================================================================================================================================================================================================================================================================================================================================================================================================================================================================================================================================================================================================================================================================================================================================================================================================================================================================================================================================================================================================================================================================================================================================================================================================================================================================================================================================================================================================================================================================================================================================================================================================================================================================================================================================================================================================================================================================================================================================================================================================================================================================================================================================================================================================================================================================================================================================================================================================================================================================================================================================================================================================================================================================================================================================================================================================================================================================================================================================================================================================================================================================================================================================================================================================================================================================================================================================================================================================================================================================================================================================================================================================================================================================================================================================================================================================================================================================================================================================================================================================================================================================================================================================================================================================================================================================================================================================================================================================================================================================================================================================================================================================================================================================================================================================================================================================================================================================================================================================================================================================================================================================================================================================================================================================================================================================================================================================================================================================================================================================================================================================================================================================================================================================================================================================================================================================================================================================================================================================================================================================================================================================================================================================================================================================================================================================================================================================================================================================================================================================================================================================================================================================================================================================================================================================================================================================================================================================================================================================================================================================================================================================================================================================================================================================================================================================================================================================================================================================================================================================================================================================================================================================================================================================================================================================================================================================================================================================================================================================================================================================================================================================================================================================================================================================================================================================================================================================================================================================================================================================================================================================================================================================================================================================================================================================================================================================================================================================================================================================================================================================================================================================================================================================================================================================================================================================================================================================================================================================================================================================================================================================================================================================================================================================================================================================================================================================================================================================================================================================================================================================================================================================================================================================================================================================================================================================================================================================================================================================================================================================================================================================================================================================================================================================================================================================================================================================================================================================================================================================================================================================================================================================================================================================================================================================================================================================================================================================================================================================================================================================================================================================================================================================================================================================================================================================================================================================================================================================================================================================================================================================================================================================================================================================================================================================================================================================================================================================================================================================================================================================================================================================================================================================================================================================================================================================================================================================================================================================================================================================================================================================================================================================================================================================================================================================================================================================================================================================================================================================================================================================================================================================================================================================================================================================================================================================================================================================================================================================================================================================================================================================================================================================================================================================================================================================================================================================================================================================================================================================================================================================================================================================================================================================================================================================================================================================================================================================================================================================================================================================================================================================================================================================================================================================================================================================================================================================================================================================================================================================================================================================================================================================================================================================================================================================================================================================================================================================================================================================================================================================================================================================================================================================================================================================================================================================================================================================================================================================================================================================================================================================================================================================================================================================================================================================================================================================================================================================================================================================================================================================================================================================================================================================================================================================================================================================================================================================================================================================================================================================================================================================================================================================================================================================================================================================================================================================================================================================================================================================================================================================================================================================================================================================================================================================================================================================================================================================================================================================================================================================================================================================================================================================================================================================================================================================================================================================================================================================================================================================================================================================================================================================================================================================================================================================================================================================================================================================================================================================================================================================================================================================================================================================================================================================================================================================================================================================================================================================================================================================================================================================================================================================================================================================================================================================================================================================================================================================================================================================================================================================================================================================================================================================================================================================================================================================================================================================================================================================================================================================================================================================================================================================================================================================================================================================================================================================================================================================================================================================================================================================================================================================================================================================================================================================================================================================================================================================================================================================================================================================================================================================================================================================================================================================================================================================================================================================================================================================================================================================================================================================================================================================================================================================================================================================================================================================================================================================================================================================================================================================================================================================================================================================================================================================================================================================================================================================================================================================================================================================================================================================================================================================================================================================================================================================================================================================================================================================================================================================================================================================================================================================================================================================================================================================================================================================================================================================================================================================================================================================================================================================================================================================================================================================================================================================================================================================================================================================================================================================================================================================================================================================================================================================================================================================================================================================================================================================================================================================================================================================================================================================================================================================================================================================================================================================================================================================================================================================================================================================================================================================================================================================================================================================================================================================================================================================================================================================================================================================================================================================================================================================================================================================================================================================================================================================================================================================================================================================================================================================================================================================================================================================================================================================================================================================================================================================================================================================================================================================================================================================================================================================================================================================================================================================================================================================================================================================================================================================================================================================================================================================================================================================================================================================================================================================================================================================================================================================================================================================================================================================================================================================================================================================================================================================================================================================================================================================================================================================================================================================================================================================================================================================================================================================================================================================================================================================================================================================================================================================================================================================================================================================================================================================================================================================================================================================================================================================================================================================================================================================================================================================================================================================================================================================================================================================================================================================================================================================================================================================================================================================================================================================================================================================================================================================================================================================================================================================================================================================================================================================================================================================================================================================================================================================================================================================================================================================================================================================================================================================================================================================================================================================================================================================================================================================================================================================================================================================================================================================================================================================================================================================================================================================================================================================================================================================================================================================================================================================================================================================================================================================================================================================================================================================================================================================================================================================================================================================================================================================================================================================================================================================================================================================================================================================================================================================================================================================================================================================================================================================================================================================================================================================================================================================================================================================================================================================================================================================================================================================================================================================================================================================================================================================================================================================================================================================================================================================================================================================================================================================================================================================================================================================================================================================================================================================================================================================================================================================================================================================================================================================================================================================================================================================================================================================================================================================================================================================================================================================================================================================================================================================================================================================================================================================================================================================================================================================================================================================================================================================================================================================================================================================================================================================================================================================================================================================================================================================================================================================================================================================================================================================================================================================================================================================================================================================================================================================================================================================================================================================================================================================================================================================================================================================================================================================================================================================================================================================================================================================================================================================================================================================================================================================================================================================================================================================================================================================================================================================================================================================================================================================================================================================================================================================================================================================================================================================================================================================================================================================================================================================================================================================================================================================================================================================================================================================================================================================================================================================================================================================================================================================================================================================================================================================================================================================================================================================================================================================================================================================================================================================================================================================================================================================================================================================================================================================================================================================================================================================================================================================================================================================================================================================================================================================================================================================================================================================================================================================================================================================================================================================================================================================================================================================================================================================================================================================================================================================================================================================================================================================================================================================================================================================================================================================================================================================================================================================================================================================================================================================================================================================================================================================================================================================================================================================================================================================================================================================================================================================================================================================================================================================================================================================================================================================================================================================================================================================================================================================================================================================================================================================================================================================================================================================================================================================================================================================================================================================================================================================================================================================================================================================================================================================================================================================================================================================================================================================================================================================================================================================================================================================================================================================================================================================================================================================================================================================================================================================================================================================================================================================================================================================================================================================================================================================================================================================================================================================================================================================================================================================================================================================================================================================================================================================================================================================================================================================================================================================================================================================================================================================================================================================================================================================================================================================================================================================================================================================================================================================================================================================================================================================================================================================================================================================================================================================================================================================================================================================================================================================================================================================================================================================================================================================================================================================================================================================================================================================================================================================================================================================================================================================================================================================================================================================================================================================================================================================================================================================================================================================================================================================================================================================================================================================================================================================================================================================================================================================================================================================================================================================================================================================================================================================================================================================================================================================================================================================================================================================================================================================================================================================================================================================================================================================================================================================================================================================================================================================================================================================================================================================================================================================================================================================================================================================================================================================================================================================================================================================================================================================================================================================================================================================================================================================================================================================================================================================================================================================================================================================================================================================================================================================================================================================================================================================================================================================================================================================================================================================================================================================================================================================================================================================================================================================================================================================================================================================================================================================================================================================================================================================================================================================================================================================================================================================================================================================================================================================================================================================================================================================================================================================================================================================================================================================================================================================================================================================================================================================================================================================================================================================================================================================================================================================================================================================================================================================================================================================================================================================================================================================================================================================================================================================================================================================================================================================================================================================================================================================================================================================================================================================================================================================================================================================================================================================================================================================================================================================================================================================================================================================================================================================================================================================================================================================================================================================================================================================================================================================================================================================================================================================================================================================================================================================================================================================================================================================================================================================================================================================================================================================================================================================================================================================================================================================================================================================================================================================================================================================================================================================================================================================================================================================================================================================================================================================================================================================================================================================================================================================================================================================================================================================================================================================================================================================================================================================================================================================================================================================================================================================================================================================================================================================================================================================================================================================================================================================================================================================================================================================================================================================================================================================================================================================================================================================================================================================================================================================================================================================================================================================================================================================================================================================================================================================================================================================================================================================================================================================================================================================================================================================================================================================================================================================================================================================================================================================================================================================================================================================================================================================================================================================================================================================================================================================================================================================================================================================================================================================================================================================================================================================================================================================================================================================================================================================================================================================================================================================================================================================================================================================================================================================================================================================================================================================================================================================================================================================================================================================================================================================================================================================================================================================================================================================================================================================================================================================================================================================================================================================================================================================================================================================================================================================================================================================================================================================================================================================================================================================================================================================================================================================================================================================================================================================================================================================================================================================================================================================================================================================================================================================================================================================================================================================================================================================================================================================================================================================================================================================================================================================================================================================================================================================================================================================================================================================================================================================================================================================================================================================================================================================================================================================================================================================================================================================================================================================================================================================================================================================================================================================================================================================================================================================================================================================================================================================================================================================================================================================================================================================================================================================================================================================================================================================================================================================================================================================================================================================================================================================================================================================================================================================================================================================================================================================================================================================================================================================================================================================================================================================================================================================================================================================================================================================================================================================================================================================================================================================================================================================================================================================================================================================================================================================================================================================================================================================================================================================================================================================================================================================================================================================================================================================================================================================================================================================================================================================================================================================================================================================================================================================================================================================================================================================================================================================================================================================================================================================================================================================================================================================================================================================================================================================================================================================================================================================================================================================================================================================================================================================================================================================================================================================================================================================================================================================================================================================================================================================================================================================================================================================================================================================================================================================================================================================================================================================================================================================================================================================================================================================================================================================================================================================================================================================================================================================================================================================================================================================================================================================================================================================================================================================================================================================================================================================================================================================================================================================================================================================================================================================================================================================================================================================================================================================================================================================================================================================================================================================================================================================================================================================================================================================================================================================================================================================================================================================================================================================================================================================================================================================================================================================================================================================================================================================================================================================================================================================================================================================================================================================================================================================================================================================================================================================================================================================================================================================================================================================================================================================================================================================================================================================================================================================================================================================================================================================================================================================================================================================================================================================================================================================================================================================================================================================================================================================================================================================================================================================================================================================================================================================================================================================================================================================================================================================================================================================================================================================================================================================================================================================================================================================================================================================================================================================================================================================================================================================================================================================================================================================================================================================================================================================================================================================================================================================================================================================================================================================================================================================================================================================================================================================================================================================================================================================================================================================================================================================================================================================================================================================================================================================================================================================================================================================================================================================================================================================================================================================================================================================================================================================================================================================================================================================================================================================================================================================================================================================================================================================================================================================================================================================================================================================================================================================================================================================================================================================================================================================================================================================================================================================================================================================================================================================================================================================================================================================================================================================================================================================================================================================================================================================================================================================================================================================================================================================================================================================================================================================================================================================================================================================================================================================================================================================================================================================================================================================================================================================================================================================================================================================================================================================================================================================================================================================================================================================================================================================================================================================================================================================================================================================================================================================================================================================================================================================================================================================================================================================================================================================================================================================================================================================================================================================================================================================================================================================================================================================================================================================================================================================================================================================================================================================================================================================================================================================================================================================================================================================================================================================================================================================================================================================================================================================================================================================================================================================================================================================================================================================================================================================================================================================================================================================================================================================================================================================================================================================================================================================================================================================================================================================================================================================================================================================================================================================================================================================================================================================================================================================================================================================================================================================================================================================================================================================================================================================================================================================================================================================================================================================================================================================================================================================================================================================================================================================================================================================================================================================================================================================================================================================================================================================================================================================================================================================================================================================================================================================================================================================================================================================================================================================================================================================================================================================================================================================================================================================================================================================================================================================================================================================================================================================================================================================================================================================================================================================================================================================================================================================================================================================================================================================================================================================================================================================================================================================================================================================================================================================================================================================================================================================================================================================================================================================================================================================================================================================================================================================================================================================================================================================================================================================================================================================================================================================================================================================================================================================================================================================================================================================================================================================================================================================================================================================================================================================================================================================================================================================================================================================================================================================================================================================================================================================================================================================================================================================================================================================================================================================================================================================================================================================================================================================================================================================================================================================================================================================================================================================================================================================================================================================================================================================================================================================================================================================================================================================================================================================================================================================================================================================================================================================================================================================================================================================================================================================================================================================================================================================================================================================================================================================================================================================================================================================================================================================================================================================================================================================================================================================================================================================================================================================================================================================================================================================================================================================================================================================================================================================================================================================================================================================================================================================================================================================================================================================================================================================================================================================================================================================================================================================================================================================================================================================================================================================================================================================================================================================================================================================================================================================================================================================================================================================================================================================================================================================================================================================================================================================================================================================================================================================================================================================================================================================================================================================================================================================================================================================================================================================================================================================================================================================================================================================================================================================================================================================================================================================================================================================================================================================================================================================================================================================================================================================================================================================================================================================================================================================================================================================================================================================================================================================================================================================================================================================================================================================================================================================================================================================================================================================================================================================================================================================================================================================================================================================================================================================================================================================================================================================================================================================================================================================================================================================================================================================================================================================================================================================================================================================================================================================================================================================================================================================================================================================================================================================================================================================================================================================================================================================================================================================================================================================================================================================================================================================================================================================================================================================================================================================================================================================================================================================================================================================================================================================================================================================================================================================================================================================================================================================================================================================================================================================================================================================================================================================================================================================================================================================================================================================================================================================================================================================================================================================================================================================================================================================================================================================================================================================================================================================================================================================================================================================================================================================================================================================================================================================================================================================================================================================================================================================================================================================================================================================================================================================================================================================================================================================================================================================================================================================================================================================================================================================================================================================================================================================================================================================================================================================================================================================================================================================================================================================================================================================================================================================================================================================================================================================================================================================================================================================================================================================================================================================================================================================================================================================================================================================================================================================================================================================================================================================================================================================================================================================================================================================================================================================================================================================================================================================================================================================================================================================================================================================================================================================================================================================================================================================================================================================================================================================================================================================================================================================================================================================================================================================================================================================================================================================================================================================================================================================================================================================================================================================================================================================================================================================================================================================================================================================================================================================================================================================================================================================================================================================================================================================================================================================================================================================================================================================================================================================================================================================================================================================================================================================================================================================================================================================================================================================================================================================================================================================================================================================================================================================================================================================================================================================================================================================================================================================================================================================================================================================================================================================================================================================================================================================================================================================================================================================================================================================================================================================================================================================================================================================================================================================================================================================================================================================================================================================================================================================================================================================================================================================================================================================================================================================================================================================================================================================================================================================================================================================================================================================================================================================================================================================================================================================================================================================================================================================================================================================================================================================================================================================================================================================================================================================================================================================================================================================================================================================================================================================================================================================================================================================================================================================================================================================================================================================================================================================================================================================================================================================================================================================================================================================================================================================================================================================================================================================================================================================================================================================================================================================================================================================================================================================================================================================================================================================================================================================================================================================================================================================================================================================================================================================================================================================================================================================================================================================================================================================================================================================================================================================================================================================================================================================================================================================================================================================================================================================================================================================================================================================================================================================================================================================================================================================================================================================================================================================================================================================================================================================================================================================================================================================================================================================================================================================================================================================================================================================================================================================================================================================================================================================================================================================================================================================================================================================================================================================================================================================================================================================================================================================================================================================================================================================================================================================================================================================================================================================================================================================================================================================================================================================================================================================================================================================================================================================================================================================================================================================================================================================================================================================================================================================================================================================================================================================================================================================================================================================================================================================================================================================================================================================================================================================================================================================================================================================================================================================================================================================================================================================================================================================================================================================================================================================================================================================================================================================================================================================================================================================================================================================================================================================================================================================================================================================================================================================================================================================================================================================================================================================================================================================================================================================================================================================================================================================================================================================================================================================================================================================================================================================================================================================================================================================================================================================================================================================================================================================================================================================================================================================================================================================================================================================================================================================================================================================================================================================================================================================================================================================================================================================================================================================================================================================================================================================================================================================================================================================================================================================================================================================================================================================================================================================================================================================================================================================================================================================================================================================================================================================================================================================================================================================================================================================================================================================================================================================================================================================================================================================================================================================================================================================================================================================================================================================================================================================================================================================================================================================================================================================================================================================================================================================================================================================================================================================================================================================================================================================================================================================================================================================================================================================================================================================================================================================================================================================================================================================================================================================================================================================================================================================================================================================================================================================================================================================================================================================================================================================================================================================================================================================================================================================================================================================================================================================================================================================================================================================================================================================================================================================================================================================================================================================================================================================================================================================================================================================================================================================================================================================================================================================================================================================================================================================================================================================================================================================================================================================================================================================================================================================================================================================================================================================================================================================================================================================================================================================================================================================================================================================================================================================================================================================================================================================================================================================================================================================================================================================================================================================================================================================================================================================================================================================================================================================================================================================================================================================================================================================================================================================================================================================================================================================================================================================================================================================================================================================================================================================================================================================================================================================================================================================================================================================================================================================================================================================================================================================================================================================================================================================================================================================================================================================================================================================================================================================================================================================================================================================================================================================================================================================================================================================================================================================================================================================================================================================================================================================================================================================================================================================================================================================================================================================================================================================================================================================================================================================================================================================================================================================================================================================================================================================================================================================================================================================================================================================================================================================================================================================================================================================================================================================================================================================================================================================================================================================================================================================================================================================================================================================================================================================================================================================================================================================================================================================================================================================================================================================================================================================================================================================================================================================================================================================================================================================================================================================================================================================================================================================================================================================================================================================================================================================================================================================================================================================================================================================================================================================================================================================================================================================================================================================================================================================================================================================================================================================================================================================================================================================================================================================================================================================================================================================================================================================================================================================================================================================================================================================================================================================================================================================================================================================================================================================================================================================================================================================================================================================================================================================================================================================================================================================================================================================================================================================================================================================================================================================================================================================================================================================================================================================================================================================================================================================================================================================================================================================================================================================================================================================================================================================================================================================================================================================================================================================================================================================================================================================================================================================================================================================================================================================================================================================================================================================================================================================================================================================================================================================================================================================================================================================================================================================================================================================================================================================================================================================================================================================================================================================================================================================================================================================================================================================================================================================================================================================================================================================================================================================================================================================================================================================================================================================================================================================================================================================================================================================================================================================================================================================================================================================================================================================================================================================================================================================================================================================================================================================================================================================================================================================================================================================================================================================================================================================================================================================================================================================================================================================================================================================================================================================================================================================================================================================================================================================================================================================================================================================================================================================================================================================================================================================================================================================================================================================================================================================================================================================================================================================================================================================================================================================================================================================================================================================================================================================================================================================================================================================================================================================================================================================================================================================================================================================================================================================================================================================================================================================================================================================================================================================================================================================================================================================================================================================================================================================================================================================================================================================================================================================================================================================================================================================================================================================================================================================================================================================================================================================================================================================================================================================================================================================================================================================================================================================================================================================================================================================================================================================================================================================================================================================================================================================================================================================================================================================================================================================================================================================================================================================================================================================================================================================================================================================================================================================================================================================================================================================================================================================================================================================================================================================================================================================================================================================================================================================================================================================================================================================================================================================================================================================================================================================================================================================================================================================================================================================================================================================================================================================================================================================================================================================================================================================================================================================================================================================================================================================================================================================================================================================================================================================================================================================================================================================================================================================================================================================================================================================================================================================================================================================================================================================================================================================================================================================================================================================================================================================================================================================================================================================================================================================================================================================================================================================================================================================================================================================================================================================================================================================================================================================================================================================================================================================================================================================================================================================================================================================================================================================================================================================================================================================================================================================================================================================================================================================================================================================================================================================================================================================================================================================================================================================================================================================================================================================================================================================================================================================================================================================================================================================================================================================================================================================================================================================================================================================================================================================================================================================================================================================================================================================================================================================================================================================================================================================================================================================================================================================================================================================================================================================================================================================================================================================================================================================================================================================================================================================================================================================================================================================================================================================================================================================================================================================================================================================================================================================================================================================================================================================================================================================================================================================================================================================================================================================================================================================================================================================================================================================================================================================================================================================================================================================================================================================================================================================================================================================================================================================================================================================================================================================================================================================================================================================================================================================================================================================================================================================================================================================================================================================================================================================================================================================================================================================================================================================================================================================================================================================================================================================================================================================================================================================================================================================================================================================================================================================================================================================================================================================================================================================================================================================================================================================================================================================================================================================================================================================================================================================================================================================================================================================================================================================================================================================================================================================================================================================================================================================================================================================================================================================================================================================================================================================================================================================================================================================================================================================================================================================================================================================================================================================================================================================================================================================================================================================================================================================================================================================================================================================================================================================================================================================================================================================================================================================================================================================================================================================================================================================================================================================================================================================================================================================================================================================================================================================================================================================================================================================================================================================================================================================================================================================================================================================================================================================================================================================================================================================================================================================================================================================================================================================================================================================================================================================================================================================================================================================================================================================================================================================================================================================================================================================================================================================================================================================================================================================================================================================================================================================================================================================================================================================================================================================================================================================================================================================================================================================================================================================================================================================================================================================================================================================================================================================================================================================================================================================================================================================================================================================================================================================================================================================================================================================================================================================================================================================================================================================================================================================================================================================================================================================================================================================================================================================================================================================================================================================================================================================================================================================================================================================================================================================================================================================================================================================================================================================================================================================================================================================================================================================================================================================================================================================================================================================================================================================================================================================================================================================================================================================================================================================================================================================================================================================================================================================================================================================================================================================================================================================================================================================================================================================================================================================================================================================================================================================================================================================================================================================================================================================================================================================================================================================================================================================================================================================================================================================================================================================================================================================================================================================================================================================================================================================================================================================================================================================================================================================================================================================================================================================================================================================================================================================================================================================================================================================================================================================================================================================================================================================================================================================================================================================================================================================================================================================================================================================================================================================================================================================================================================================================================================================================================================================================================================================================================================================================================================================================================================================================================================================================================================================================================================================================================================================================================================================================================================================================================================================================================================================================================================================================================================================================================================================================================================================================================================================================================================================================================================================================================================================================================================================================================================================================================================================================================================================================================================================================================================================================================================================================================================================================================================================================================================================================================================================================================================================================================================================================================================================================================================================================================================================================================================================================================================================================================================================================================================================================================================================================================================================================================================================================================================================================================================================================================================================================================================================================================================================================================================================================================================================================================================================================================================================================================================================================================================================================================================================================================================================================================================================================================================================================================================================================================================================================================================================================================================================================================================================================================================================================================================================================================================================================================================================================================================================================================================================================================================================================================================================================================================================================================================================================================================================================================================================================================================================================================================================================================================================================================================================================================================================================================================================================================================================================================================================================================================================================================================================================================================================================================================================================================================================================================================================================================================================================================================================================================================================================================================================================================================================================================================================================================================================================================================================================================================================================================================================================================================================================================================================================================================================================================================================================================================================================================================================================================================================================================================================================================================================================================================================================================================================================================================================================================================================================================================================================================================================================================================================================================================================================================================================================================================================================================================================================================================================================================================================================================================================================================================================================================================================================================================================================================================================================================================================================================================================================================================================================================================================================================================================================================================================================================================================================================================================================================================================================================================================================================================================================================================================================================================================================================================================================================================================================================================================================================================================================================================================================================================================================================================================================================================================================================================================================================================================================================================================================================================================================================================================================================================================================================================================================================================================================================================================================================================================================================================================================================================================================================================================================================================================================================================================================================================================================================================================================================================================================================================================================================================================================================================================================================================================================================================================================================================================================================================================================================================================================================================================================================================================================================================================================================================================================================================================================================================================================================================================================================================================================================================================================================================================================================================================================================================================================================================================================================================================================================================================================================================================================================================================================================================================================================================================================================================================================================================================================================================================================================================================================================================================================================================================================================================================================================================================================================================================================================================================================================================================================================================================================================================================================================================================================================================================================================================================================================================================================================================================================================================================================================================================================================================================================================================================================================================================================================================================================================================================================================================================================================================================================================================================================================================================================================================================================================================================================================================================================================================================================================================================================================================================================================================================================================================================================================================================================================================================================================================================================================================================================================================================================================================================================================================================================================================================================================================================================================================================================================================================================================================================================================================================================================================================================================================================================================================================================================================================================================================================================================================================================================================================================================================================================================================================================================================================================================================================================================================================================================================================================================================================================================================================================================================================================================================================================================================================================================================================================================================================================================================================================================================================================================================================================================================================================================================================================================================================================================================================================================================================================================================================================================================================================================================================================================================================================================================================================================================================================================================================================================================================================================================================================================================================================================================================================================================================================================================================================================================================================================================================================================================================================================================================================================================================================================================================================================================================================================================================================================================================================================================================================================================================================================================================================================================================================================================================================================================================================================================================================================================================================================================================================================================================================================================================================================================================================================================================================================================================================================================================================================================================================================================================================================================================================================================================================================================================================================================================================================================================================================================================================================================================================================================================================================================================================================================================================================================================================================================================================================================================================================================================================================================================================================================================================================================================================================================================================================================================================================================================================================================================================================================================================================================================================================================================================================================================================================================================================================================================================================================================================================================================================================================================================================================================================================================================================================================================================================================================================================================================================================================================================================================================================================================================================================================================================================================================================================================================================================================================================================================================================================================================================================================================================================================================================================================================================================================================================================================================================================================================================================================================================================================================================================================================================================================================================================================================================================================================================================================================================================================================================================================================================================================================================================================================================================================================================================================================================================================================================================================================================================================================================================================================================================================================================================================================================================================================================================================================================================================================================================================================================================================================================================================================================================================================================================================================================================================================================================================================================================================================================================================================================================================================================================================================================================================================================================================================================================================================================================================================================================================================================================================================================================================================================================================================================================================================================================================================================================================================================================================================================================================================================================================================================================================================================================================================================================================================================================================================================================================================================================================================================================================================================================================================================================================================================================================================================================================================================================================================================================================================================================================================================================================================================================================================================================================================================================================================================================================================================================================================================================================================================================================================================================================================================================================================================================================================================================================================================================================================================================================================================================================================================================================================================================================================================================================================================================================================================================================================================================================================================================================================================================================================================================================================================================================================================================================================================================================================================================================================================================================================================================================================================================================================================================================================================================================================================================================================================================================================================================================================================================================================================================================================================================================================================================================================================================================================================================================================================================================================================================================================================================================================================================================================================================================================================================================================================================================================================================================================================================================================================================================================================================================================================================================================================================================================================================================================================================================================================================================================================================================================================================================================================================================================================================================================================================================================================================================================================================================================================================================================================================================================================================================================================================================================================================================================================================================================================================================================================================================================================================================================================================================================================================================================================================================================================================================================================================================================================================================================================================================================================================================================================================================================================================================================================================================================================================================================================================================================================================================================================================================================================================================================================================================================================================================================================================================================================================================================================================================================================================================================================================================================================================================================================================================================================================================================================================================================================================================================================================================================================================================================================================================================================================================================================================================================================================================================================================================================================================================================================================================================================================================================================================================================================================================================================================================================================================================================================================================================================================================================================================================================================================================================================================================================================================================================================================================================================================================================================================================================================================================================================================================================================================================================================================================================================================================================================================================================================================================================================================================================================================================================================================================================================================================================================================================================================================================================================================================================================================================================================================================================================================================================================================================================================================================================================================================================================================================================================================================================================================================================================================================================================================================================================================================================================================================================================================================================================================================================================================================================================================================================================================================================================================================================================================================================================================================================================================================================================================================================================================================================================================================================================================================================================================================================================================================================================================================================================================================================================================================================================================================================================================================================================================================================================================================================================================================================================================================================================================================================================================================================================================================================================================================================================================================================================================================================================================================================================================================================================================================================================================================================================================================================================================================================================================================================================================================================================================================================================================================================================================================================================================================================================================================================================================================================================================================================================================================================================================================================================================================================================================================================================================================================================================================================================================================================================================================================================================================================================================================================================================================================================================================================================================================================================================================================================================================================================================================================================================================================================================================================================================================================================================================================================================================================================================================================================================================================================================================================================================================================================================================================================================================================================================================================================================================================================================================================================================================================================================================================================================================================================================================================================================================================================================================================================================================================================================================================================================================================================================================================================================================================================================================================================================================================================================================================================================================================================================================================================================================================================================================================================================================================================================================================================================================================================================================================================================================================================================================================================================================================================================================================================================================================================================================================================================================================================================================================================================================================================================================================================================================================================================================================================================================================================================================================================================================================================================================================================================================================================================================================================================================================================================================================================================================================================================================================================================================================================================================================================================================================================================================================================================================================================================================================================================================================================================================================================================================================================================================================================================================================================================================================================================================================================================================================================================================================================================================================================================================================================================================================================================================================================================================================================================================================================================================================================================================================================================================================================================================================================================================================================================================================================================================================================================================================================================================================================================================================================================================================================================================================================================================================================================================================================================================================================================================================================================================================================================================================================================================================================================================================================================================================================================================================================================================================================================================================================================================================================================================================================================================================================================================================================================================================================================================================================================================================================================================================================================================================================================================================================================================================================================================================================================================================================================================================================================================================================================================================================================================================================================================================================================================================================================================================================================================================================================================================================================================================================================================================================================================================================================================================================================================================================================================================================================================================================================================================================================================================================================================================================================================================================================================================================================================================================================================================================================================================================================================================================================================================================================================================================================================================================================================================================================================================================] - 1s 62us/sample - loss: 0.1969 - accuracy: 0.8890\n"
     ]
    },
    {
     "data": {
      "text/plain": [
       "[0.34804484552145004, 0.889]"
      ]
     },
     "execution_count": 289,
     "metadata": {},
     "output_type": "execute_result"
    }
   ],
   "source": [
    "model.evaluate(x_test,y_test)"
   ]
  },
  {
   "cell_type": "code",
   "execution_count": null,
   "metadata": {},
   "outputs": [],
   "source": []
  },
  {
   "cell_type": "code",
   "execution_count": null,
   "metadata": {},
   "outputs": [],
   "source": []
  }
 ],
 "metadata": {
  "colab": {
   "collapsed_sections": [],
   "name": "Questions_Internal_R6_AIML_Labs.ipynb",
   "provenance": []
  },
  "kernelspec": {
   "display_name": "Python 3",
   "language": "python",
   "name": "python3"
  },
  "language_info": {
   "codemirror_mode": {
    "name": "ipython",
    "version": 3
   },
   "file_extension": ".py",
   "mimetype": "text/x-python",
   "name": "python",
   "nbconvert_exporter": "python",
   "pygments_lexer": "ipython3",
   "version": "3.7.3"
  }
 },
 "nbformat": 4,
 "nbformat_minor": 1
}
